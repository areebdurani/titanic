{
 "cells": [
  {
   "cell_type": "code",
   "execution_count": 1,
   "id": "interim-bridal",
   "metadata": {
    "execution": {
     "iopub.execute_input": "2021-05-02T20:55:55.263931Z",
     "iopub.status.busy": "2021-05-02T20:55:55.262764Z",
     "iopub.status.idle": "2021-05-02T20:55:56.130002Z",
     "shell.execute_reply": "2021-05-02T20:55:56.129205Z"
    },
    "papermill": {
     "duration": 0.923187,
     "end_time": "2021-05-02T20:55:56.130199",
     "exception": false,
     "start_time": "2021-05-02T20:55:55.207012",
     "status": "completed"
    },
    "tags": []
   },
   "outputs": [],
   "source": [
    "# Python ≥3.5 is required\n",
    "import sys\n",
    "assert sys.version_info >= (3, 5)\n",
    "\n",
    "# Scikit-Learn ≥0.20 is required\n",
    "import sklearn\n",
    "assert sklearn.__version__ >= \"0.20\"\n",
    "\n",
    "# Common imports\n",
    "import numpy as np\n",
    "import os\n",
    "\n",
    "# to make this notebook's output stable across runs\n",
    "np.random.seed(42)\n",
    "\n",
    "# To plot pretty figures\n",
    "%matplotlib inline\n",
    "import matplotlib as mpl\n",
    "import matplotlib.pyplot as plt\n",
    "mpl.rc('axes', labelsize=14)\n",
    "mpl.rc('xtick', labelsize=12)\n",
    "mpl.rc('ytick', labelsize=12)\n",
    "\n",
    "import pandas as pd"
   ]
  },
  {
   "cell_type": "code",
   "execution_count": 2,
   "id": "extra-pricing",
   "metadata": {
    "execution": {
     "iopub.execute_input": "2021-05-02T20:55:56.356323Z",
     "iopub.status.busy": "2021-05-02T20:55:56.355395Z",
     "iopub.status.idle": "2021-05-02T20:55:56.387276Z",
     "shell.execute_reply": "2021-05-02T20:55:56.388051Z"
    },
    "papermill": {
     "duration": 0.095698,
     "end_time": "2021-05-02T20:55:56.388306",
     "exception": false,
     "start_time": "2021-05-02T20:55:56.292608",
     "status": "completed"
    },
    "tags": []
   },
   "outputs": [],
   "source": [
    "train_data = pd.read_csv(\"../input/titanic/train.csv\")\n",
    "test_data = pd.read_csv(\"../input/titanic/test.csv\")"
   ]
  },
  {
   "cell_type": "markdown",
   "id": "understanding-exploration",
   "metadata": {
    "papermill": {
     "duration": 0.057644,
     "end_time": "2021-05-02T20:55:56.501131",
     "exception": false,
     "start_time": "2021-05-02T20:55:56.443487",
     "status": "completed"
    },
    "tags": []
   },
   "source": [
    "No need to split data. Data are already splited in two parts."
   ]
  },
  {
   "cell_type": "code",
   "execution_count": 3,
   "id": "aware-weekly",
   "metadata": {
    "execution": {
     "iopub.execute_input": "2021-05-02T20:55:56.710413Z",
     "iopub.status.busy": "2021-05-02T20:55:56.709467Z",
     "iopub.status.idle": "2021-05-02T20:55:56.711473Z",
     "shell.execute_reply": "2021-05-02T20:55:56.712264Z"
    },
    "papermill": {
     "duration": 0.055467,
     "end_time": "2021-05-02T20:55:56.712477",
     "exception": false,
     "start_time": "2021-05-02T20:55:56.657010",
     "status": "completed"
    },
    "tags": []
   },
   "outputs": [],
   "source": [
    "titanic = train_data.copy()"
   ]
  },
  {
   "cell_type": "code",
   "execution_count": 4,
   "id": "square-finance",
   "metadata": {
    "execution": {
     "iopub.execute_input": "2021-05-02T20:55:56.818377Z",
     "iopub.status.busy": "2021-05-02T20:55:56.817209Z",
     "iopub.status.idle": "2021-05-02T20:55:56.857324Z",
     "shell.execute_reply": "2021-05-02T20:55:56.857837Z"
    },
    "papermill": {
     "duration": 0.091694,
     "end_time": "2021-05-02T20:55:56.858007",
     "exception": false,
     "start_time": "2021-05-02T20:55:56.766313",
     "status": "completed"
    },
    "tags": []
   },
   "outputs": [
    {
     "data": {
      "text/html": [
       "<div>\n",
       "<style scoped>\n",
       "    .dataframe tbody tr th:only-of-type {\n",
       "        vertical-align: middle;\n",
       "    }\n",
       "\n",
       "    .dataframe tbody tr th {\n",
       "        vertical-align: top;\n",
       "    }\n",
       "\n",
       "    .dataframe thead th {\n",
       "        text-align: right;\n",
       "    }\n",
       "</style>\n",
       "<table border=\"1\" class=\"dataframe\">\n",
       "  <thead>\n",
       "    <tr style=\"text-align: right;\">\n",
       "      <th></th>\n",
       "      <th>PassengerId</th>\n",
       "      <th>Survived</th>\n",
       "      <th>Pclass</th>\n",
       "      <th>Name</th>\n",
       "      <th>Sex</th>\n",
       "      <th>Age</th>\n",
       "      <th>SibSp</th>\n",
       "      <th>Parch</th>\n",
       "      <th>Ticket</th>\n",
       "      <th>Fare</th>\n",
       "      <th>Cabin</th>\n",
       "      <th>Embarked</th>\n",
       "    </tr>\n",
       "  </thead>\n",
       "  <tbody>\n",
       "    <tr>\n",
       "      <th>0</th>\n",
       "      <td>1</td>\n",
       "      <td>0</td>\n",
       "      <td>3</td>\n",
       "      <td>Braund, Mr. Owen Harris</td>\n",
       "      <td>male</td>\n",
       "      <td>22.0</td>\n",
       "      <td>1</td>\n",
       "      <td>0</td>\n",
       "      <td>A/5 21171</td>\n",
       "      <td>7.2500</td>\n",
       "      <td>NaN</td>\n",
       "      <td>S</td>\n",
       "    </tr>\n",
       "    <tr>\n",
       "      <th>1</th>\n",
       "      <td>2</td>\n",
       "      <td>1</td>\n",
       "      <td>1</td>\n",
       "      <td>Cumings, Mrs. John Bradley (Florence Briggs Th...</td>\n",
       "      <td>female</td>\n",
       "      <td>38.0</td>\n",
       "      <td>1</td>\n",
       "      <td>0</td>\n",
       "      <td>PC 17599</td>\n",
       "      <td>71.2833</td>\n",
       "      <td>C85</td>\n",
       "      <td>C</td>\n",
       "    </tr>\n",
       "    <tr>\n",
       "      <th>2</th>\n",
       "      <td>3</td>\n",
       "      <td>1</td>\n",
       "      <td>3</td>\n",
       "      <td>Heikkinen, Miss. Laina</td>\n",
       "      <td>female</td>\n",
       "      <td>26.0</td>\n",
       "      <td>0</td>\n",
       "      <td>0</td>\n",
       "      <td>STON/O2. 3101282</td>\n",
       "      <td>7.9250</td>\n",
       "      <td>NaN</td>\n",
       "      <td>S</td>\n",
       "    </tr>\n",
       "    <tr>\n",
       "      <th>3</th>\n",
       "      <td>4</td>\n",
       "      <td>1</td>\n",
       "      <td>1</td>\n",
       "      <td>Futrelle, Mrs. Jacques Heath (Lily May Peel)</td>\n",
       "      <td>female</td>\n",
       "      <td>35.0</td>\n",
       "      <td>1</td>\n",
       "      <td>0</td>\n",
       "      <td>113803</td>\n",
       "      <td>53.1000</td>\n",
       "      <td>C123</td>\n",
       "      <td>S</td>\n",
       "    </tr>\n",
       "    <tr>\n",
       "      <th>4</th>\n",
       "      <td>5</td>\n",
       "      <td>0</td>\n",
       "      <td>3</td>\n",
       "      <td>Allen, Mr. William Henry</td>\n",
       "      <td>male</td>\n",
       "      <td>35.0</td>\n",
       "      <td>0</td>\n",
       "      <td>0</td>\n",
       "      <td>373450</td>\n",
       "      <td>8.0500</td>\n",
       "      <td>NaN</td>\n",
       "      <td>S</td>\n",
       "    </tr>\n",
       "  </tbody>\n",
       "</table>\n",
       "</div>"
      ],
      "text/plain": [
       "   PassengerId  Survived  Pclass  \\\n",
       "0            1         0       3   \n",
       "1            2         1       1   \n",
       "2            3         1       3   \n",
       "3            4         1       1   \n",
       "4            5         0       3   \n",
       "\n",
       "                                                Name     Sex   Age  SibSp  \\\n",
       "0                            Braund, Mr. Owen Harris    male  22.0      1   \n",
       "1  Cumings, Mrs. John Bradley (Florence Briggs Th...  female  38.0      1   \n",
       "2                             Heikkinen, Miss. Laina  female  26.0      0   \n",
       "3       Futrelle, Mrs. Jacques Heath (Lily May Peel)  female  35.0      1   \n",
       "4                           Allen, Mr. William Henry    male  35.0      0   \n",
       "\n",
       "   Parch            Ticket     Fare Cabin Embarked  \n",
       "0      0         A/5 21171   7.2500   NaN        S  \n",
       "1      0          PC 17599  71.2833   C85        C  \n",
       "2      0  STON/O2. 3101282   7.9250   NaN        S  \n",
       "3      0            113803  53.1000  C123        S  \n",
       "4      0            373450   8.0500   NaN        S  "
      ]
     },
     "execution_count": 4,
     "metadata": {},
     "output_type": "execute_result"
    }
   ],
   "source": [
    "titanic.head()"
   ]
  },
  {
   "cell_type": "code",
   "execution_count": 5,
   "id": "thirty-feeling",
   "metadata": {
    "execution": {
     "iopub.execute_input": "2021-05-02T20:55:56.960435Z",
     "iopub.status.busy": "2021-05-02T20:55:56.959519Z",
     "iopub.status.idle": "2021-05-02T20:55:57.000397Z",
     "shell.execute_reply": "2021-05-02T20:55:56.999836Z"
    },
    "papermill": {
     "duration": 0.093111,
     "end_time": "2021-05-02T20:55:57.000534",
     "exception": false,
     "start_time": "2021-05-02T20:55:56.907423",
     "status": "completed"
    },
    "tags": []
   },
   "outputs": [
    {
     "data": {
      "text/html": [
       "<div>\n",
       "<style scoped>\n",
       "    .dataframe tbody tr th:only-of-type {\n",
       "        vertical-align: middle;\n",
       "    }\n",
       "\n",
       "    .dataframe tbody tr th {\n",
       "        vertical-align: top;\n",
       "    }\n",
       "\n",
       "    .dataframe thead th {\n",
       "        text-align: right;\n",
       "    }\n",
       "</style>\n",
       "<table border=\"1\" class=\"dataframe\">\n",
       "  <thead>\n",
       "    <tr style=\"text-align: right;\">\n",
       "      <th></th>\n",
       "      <th>PassengerId</th>\n",
       "      <th>Survived</th>\n",
       "      <th>Pclass</th>\n",
       "      <th>Age</th>\n",
       "      <th>SibSp</th>\n",
       "      <th>Parch</th>\n",
       "      <th>Fare</th>\n",
       "    </tr>\n",
       "  </thead>\n",
       "  <tbody>\n",
       "    <tr>\n",
       "      <th>count</th>\n",
       "      <td>891.000000</td>\n",
       "      <td>891.000000</td>\n",
       "      <td>891.000000</td>\n",
       "      <td>714.000000</td>\n",
       "      <td>891.000000</td>\n",
       "      <td>891.000000</td>\n",
       "      <td>891.000000</td>\n",
       "    </tr>\n",
       "    <tr>\n",
       "      <th>mean</th>\n",
       "      <td>446.000000</td>\n",
       "      <td>0.383838</td>\n",
       "      <td>2.308642</td>\n",
       "      <td>29.699118</td>\n",
       "      <td>0.523008</td>\n",
       "      <td>0.381594</td>\n",
       "      <td>32.204208</td>\n",
       "    </tr>\n",
       "    <tr>\n",
       "      <th>std</th>\n",
       "      <td>257.353842</td>\n",
       "      <td>0.486592</td>\n",
       "      <td>0.836071</td>\n",
       "      <td>14.526497</td>\n",
       "      <td>1.102743</td>\n",
       "      <td>0.806057</td>\n",
       "      <td>49.693429</td>\n",
       "    </tr>\n",
       "    <tr>\n",
       "      <th>min</th>\n",
       "      <td>1.000000</td>\n",
       "      <td>0.000000</td>\n",
       "      <td>1.000000</td>\n",
       "      <td>0.420000</td>\n",
       "      <td>0.000000</td>\n",
       "      <td>0.000000</td>\n",
       "      <td>0.000000</td>\n",
       "    </tr>\n",
       "    <tr>\n",
       "      <th>25%</th>\n",
       "      <td>223.500000</td>\n",
       "      <td>0.000000</td>\n",
       "      <td>2.000000</td>\n",
       "      <td>20.125000</td>\n",
       "      <td>0.000000</td>\n",
       "      <td>0.000000</td>\n",
       "      <td>7.910400</td>\n",
       "    </tr>\n",
       "    <tr>\n",
       "      <th>50%</th>\n",
       "      <td>446.000000</td>\n",
       "      <td>0.000000</td>\n",
       "      <td>3.000000</td>\n",
       "      <td>28.000000</td>\n",
       "      <td>0.000000</td>\n",
       "      <td>0.000000</td>\n",
       "      <td>14.454200</td>\n",
       "    </tr>\n",
       "    <tr>\n",
       "      <th>75%</th>\n",
       "      <td>668.500000</td>\n",
       "      <td>1.000000</td>\n",
       "      <td>3.000000</td>\n",
       "      <td>38.000000</td>\n",
       "      <td>1.000000</td>\n",
       "      <td>0.000000</td>\n",
       "      <td>31.000000</td>\n",
       "    </tr>\n",
       "    <tr>\n",
       "      <th>max</th>\n",
       "      <td>891.000000</td>\n",
       "      <td>1.000000</td>\n",
       "      <td>3.000000</td>\n",
       "      <td>80.000000</td>\n",
       "      <td>8.000000</td>\n",
       "      <td>6.000000</td>\n",
       "      <td>512.329200</td>\n",
       "    </tr>\n",
       "  </tbody>\n",
       "</table>\n",
       "</div>"
      ],
      "text/plain": [
       "       PassengerId    Survived      Pclass         Age       SibSp  \\\n",
       "count   891.000000  891.000000  891.000000  714.000000  891.000000   \n",
       "mean    446.000000    0.383838    2.308642   29.699118    0.523008   \n",
       "std     257.353842    0.486592    0.836071   14.526497    1.102743   \n",
       "min       1.000000    0.000000    1.000000    0.420000    0.000000   \n",
       "25%     223.500000    0.000000    2.000000   20.125000    0.000000   \n",
       "50%     446.000000    0.000000    3.000000   28.000000    0.000000   \n",
       "75%     668.500000    1.000000    3.000000   38.000000    1.000000   \n",
       "max     891.000000    1.000000    3.000000   80.000000    8.000000   \n",
       "\n",
       "            Parch        Fare  \n",
       "count  891.000000  891.000000  \n",
       "mean     0.381594   32.204208  \n",
       "std      0.806057   49.693429  \n",
       "min      0.000000    0.000000  \n",
       "25%      0.000000    7.910400  \n",
       "50%      0.000000   14.454200  \n",
       "75%      0.000000   31.000000  \n",
       "max      6.000000  512.329200  "
      ]
     },
     "execution_count": 5,
     "metadata": {},
     "output_type": "execute_result"
    }
   ],
   "source": [
    "titanic.describe()"
   ]
  },
  {
   "cell_type": "code",
   "execution_count": 6,
   "id": "banned-vinyl",
   "metadata": {
    "execution": {
     "iopub.execute_input": "2021-05-02T20:55:57.107250Z",
     "iopub.status.busy": "2021-05-02T20:55:57.106596Z",
     "iopub.status.idle": "2021-05-02T20:55:57.109759Z",
     "shell.execute_reply": "2021-05-02T20:55:57.109134Z"
    },
    "papermill": {
     "duration": 0.059856,
     "end_time": "2021-05-02T20:55:57.109911",
     "exception": false,
     "start_time": "2021-05-02T20:55:57.050055",
     "status": "completed"
    },
    "tags": []
   },
   "outputs": [],
   "source": [
    "titanic.drop(['PassengerId', \"Name\", \"SibSp\", \"Parch\", \"Ticket\", \"Fare\", \"Cabin\"], axis=1, inplace=True)"
   ]
  },
  {
   "cell_type": "code",
   "execution_count": 7,
   "id": "related-honey",
   "metadata": {
    "execution": {
     "iopub.execute_input": "2021-05-02T20:55:57.227318Z",
     "iopub.status.busy": "2021-05-02T20:55:57.226542Z",
     "iopub.status.idle": "2021-05-02T20:55:57.230332Z",
     "shell.execute_reply": "2021-05-02T20:55:57.229710Z"
    },
    "papermill": {
     "duration": 0.069963,
     "end_time": "2021-05-02T20:55:57.230464",
     "exception": false,
     "start_time": "2021-05-02T20:55:57.160501",
     "status": "completed"
    },
    "tags": []
   },
   "outputs": [
    {
     "name": "stdout",
     "output_type": "stream",
     "text": [
      "<class 'pandas.core.frame.DataFrame'>\n",
      "RangeIndex: 891 entries, 0 to 890\n",
      "Data columns (total 5 columns):\n",
      " #   Column    Non-Null Count  Dtype  \n",
      "---  ------    --------------  -----  \n",
      " 0   Survived  891 non-null    int64  \n",
      " 1   Pclass    891 non-null    int64  \n",
      " 2   Sex       891 non-null    object \n",
      " 3   Age       714 non-null    float64\n",
      " 4   Embarked  889 non-null    object \n",
      "dtypes: float64(1), int64(2), object(2)\n",
      "memory usage: 34.9+ KB\n"
     ]
    }
   ],
   "source": [
    "titanic.info()"
   ]
  },
  {
   "cell_type": "code",
   "execution_count": 8,
   "id": "scientific-writing",
   "metadata": {
    "execution": {
     "iopub.execute_input": "2021-05-02T20:55:57.358369Z",
     "iopub.status.busy": "2021-05-02T20:55:57.357696Z",
     "iopub.status.idle": "2021-05-02T20:55:57.361602Z",
     "shell.execute_reply": "2021-05-02T20:55:57.361096Z"
    },
    "papermill": {
     "duration": 0.068752,
     "end_time": "2021-05-02T20:55:57.361735",
     "exception": false,
     "start_time": "2021-05-02T20:55:57.292983",
     "status": "completed"
    },
    "tags": []
   },
   "outputs": [
    {
     "data": {
      "text/plain": [
       "Survived    0.000000\n",
       "Pclass      0.000000\n",
       "Sex         0.000000\n",
       "Age         0.198653\n",
       "Embarked    0.002245\n",
       "dtype: float64"
      ]
     },
     "execution_count": 8,
     "metadata": {},
     "output_type": "execute_result"
    }
   ],
   "source": [
    "titanic.isnull().mean()"
   ]
  },
  {
   "cell_type": "code",
   "execution_count": 9,
   "id": "executive-swaziland",
   "metadata": {
    "execution": {
     "iopub.execute_input": "2021-05-02T20:55:57.468081Z",
     "iopub.status.busy": "2021-05-02T20:55:57.467466Z",
     "iopub.status.idle": "2021-05-02T20:55:57.469915Z",
     "shell.execute_reply": "2021-05-02T20:55:57.470412Z"
    },
    "papermill": {
     "duration": 0.058448,
     "end_time": "2021-05-02T20:55:57.470574",
     "exception": false,
     "start_time": "2021-05-02T20:55:57.412126",
     "status": "completed"
    },
    "tags": []
   },
   "outputs": [
    {
     "data": {
      "text/plain": [
       "(891, 5)"
      ]
     },
     "execution_count": 9,
     "metadata": {},
     "output_type": "execute_result"
    }
   ],
   "source": [
    "titanic.shape"
   ]
  },
  {
   "cell_type": "code",
   "execution_count": 10,
   "id": "global-courtesy",
   "metadata": {
    "execution": {
     "iopub.execute_input": "2021-05-02T20:55:57.575560Z",
     "iopub.status.busy": "2021-05-02T20:55:57.574870Z",
     "iopub.status.idle": "2021-05-02T20:55:57.817083Z",
     "shell.execute_reply": "2021-05-02T20:55:57.816481Z"
    },
    "papermill": {
     "duration": 0.295763,
     "end_time": "2021-05-02T20:55:57.817233",
     "exception": false,
     "start_time": "2021-05-02T20:55:57.521470",
     "status": "completed"
    },
    "tags": []
   },
   "outputs": [
    {
     "data": {
      "image/png": "[encoded data removed]",
      "text/plain": [
       "<Figure size 432x288 with 1 Axes>"
      ]
     },
     "metadata": {
      "needs_background": "light"
     },
     "output_type": "display_data"
    }
   ],
   "source": [
    "import seaborn as sns\n",
    "\n",
    "sns.countplot(x=\"Survived\", hue=\"Sex\", data=titanic)\n",
    "plt.show()"
   ]
  },
  {
   "cell_type": "code",
   "execution_count": 11,
   "id": "hybrid-unemployment",
   "metadata": {
    "execution": {
     "iopub.execute_input": "2021-05-02T20:55:57.926986Z",
     "iopub.status.busy": "2021-05-02T20:55:57.925986Z",
     "iopub.status.idle": "2021-05-02T20:55:58.084879Z",
     "shell.execute_reply": "2021-05-02T20:55:58.085398Z"
    },
    "papermill": {
     "duration": 0.216687,
     "end_time": "2021-05-02T20:55:58.085576",
     "exception": false,
     "start_time": "2021-05-02T20:55:57.868889",
     "status": "completed"
    },
    "tags": []
   },
   "outputs": [
    {
     "data": {
      "image/png": "[encoded data removed]",
      "text/plain": [
       "<Figure size 432x288 with 1 Axes>"
      ]
     },
     "metadata": {
      "needs_background": "light"
     },
     "output_type": "display_data"
    }
   ],
   "source": [
    "sns.countplot(x=\"Survived\", hue=\"Embarked\", data=titanic)\n",
    "plt.show()"
   ]
  },
  {
   "cell_type": "code",
   "execution_count": 12,
   "id": "finished-shopper",
   "metadata": {
    "execution": {
     "iopub.execute_input": "2021-05-02T20:55:58.197725Z",
     "iopub.status.busy": "2021-05-02T20:55:58.196721Z",
     "iopub.status.idle": "2021-05-02T20:55:58.363537Z",
     "shell.execute_reply": "2021-05-02T20:55:58.363989Z"
    },
    "papermill": {
     "duration": 0.225663,
     "end_time": "2021-05-02T20:55:58.364158",
     "exception": false,
     "start_time": "2021-05-02T20:55:58.138495",
     "status": "completed"
    },
    "tags": []
   },
   "outputs": [
    {
     "data": {
      "image/png": "[encoded data removed]",
      "text/plain": [
       "<Figure size 432x288 with 1 Axes>"
      ]
     },
     "metadata": {
      "needs_background": "light"
     },
     "output_type": "display_data"
    }
   ],
   "source": [
    "sns.countplot(x=\"Survived\", hue=\"Pclass\", data=titanic)\n",
    "plt.show()"
   ]
  },
  {
   "cell_type": "code",
   "execution_count": 13,
   "id": "single-essence",
   "metadata": {
    "execution": {
     "iopub.execute_input": "2021-05-02T20:55:58.475344Z",
     "iopub.status.busy": "2021-05-02T20:55:58.473163Z",
     "iopub.status.idle": "2021-05-02T20:55:59.146209Z",
     "shell.execute_reply": "2021-05-02T20:55:59.146677Z"
    },
    "papermill": {
     "duration": 0.729614,
     "end_time": "2021-05-02T20:55:59.146861",
     "exception": false,
     "start_time": "2021-05-02T20:55:58.417247",
     "status": "completed"
    },
    "tags": []
   },
   "outputs": [
    {
     "data": {
      "image/png": "[encoded data removed]",
      "text/plain": [
       "<Figure size 1440x1440 with 4 Axes>"
      ]
     },
     "metadata": {
      "needs_background": "light"
     },
     "output_type": "display_data"
    }
   ],
   "source": [
    "import warnings\n",
    "warnings.filterwarnings(\"ignore\")\n",
    "\n",
    "titanic.hist(figsize=(20,20))\n",
    "plt.show()"
   ]
  },
  {
   "cell_type": "code",
   "execution_count": 14,
   "id": "hungry-inspector",
   "metadata": {
    "execution": {
     "iopub.execute_input": "2021-05-02T20:55:59.262766Z",
     "iopub.status.busy": "2021-05-02T20:55:59.262052Z",
     "iopub.status.idle": "2021-05-02T20:55:59.265114Z",
     "shell.execute_reply": "2021-05-02T20:55:59.265592Z"
    },
    "papermill": {
     "duration": 0.063148,
     "end_time": "2021-05-02T20:55:59.265751",
     "exception": false,
     "start_time": "2021-05-02T20:55:59.202603",
     "status": "completed"
    },
    "tags": []
   },
   "outputs": [],
   "source": [
    "corr_matrix = titanic.corr()"
   ]
  },
  {
   "cell_type": "code",
   "execution_count": 15,
   "id": "coastal-overall",
   "metadata": {
    "execution": {
     "iopub.execute_input": "2021-05-02T20:55:59.385676Z",
     "iopub.status.busy": "2021-05-02T20:55:59.384791Z",
     "iopub.status.idle": "2021-05-02T20:55:59.388274Z",
     "shell.execute_reply": "2021-05-02T20:55:59.388839Z"
    },
    "papermill": {
     "duration": 0.067953,
     "end_time": "2021-05-02T20:55:59.388997",
     "exception": false,
     "start_time": "2021-05-02T20:55:59.321044",
     "status": "completed"
    },
    "tags": []
   },
   "outputs": [
    {
     "data": {
      "text/html": [
       "<div>\n",
       "<style scoped>\n",
       "    .dataframe tbody tr th:only-of-type {\n",
       "        vertical-align: middle;\n",
       "    }\n",
       "\n",
       "    .dataframe tbody tr th {\n",
       "        vertical-align: top;\n",
       "    }\n",
       "\n",
       "    .dataframe thead th {\n",
       "        text-align: right;\n",
       "    }\n",
       "</style>\n",
       "<table border=\"1\" class=\"dataframe\">\n",
       "  <thead>\n",
       "    <tr style=\"text-align: right;\">\n",
       "      <th></th>\n",
       "      <th>Survived</th>\n",
       "      <th>Pclass</th>\n",
       "      <th>Age</th>\n",
       "    </tr>\n",
       "  </thead>\n",
       "  <tbody>\n",
       "    <tr>\n",
       "      <th>Survived</th>\n",
       "      <td>1.000000</td>\n",
       "      <td>-0.338481</td>\n",
       "      <td>-0.077221</td>\n",
       "    </tr>\n",
       "    <tr>\n",
       "      <th>Pclass</th>\n",
       "      <td>-0.338481</td>\n",
       "      <td>1.000000</td>\n",
       "      <td>-0.369226</td>\n",
       "    </tr>\n",
       "    <tr>\n",
       "      <th>Age</th>\n",
       "      <td>-0.077221</td>\n",
       "      <td>-0.369226</td>\n",
       "      <td>1.000000</td>\n",
       "    </tr>\n",
       "  </tbody>\n",
       "</table>\n",
       "</div>"
      ],
      "text/plain": [
       "          Survived    Pclass       Age\n",
       "Survived  1.000000 -0.338481 -0.077221\n",
       "Pclass   -0.338481  1.000000 -0.369226\n",
       "Age      -0.077221 -0.369226  1.000000"
      ]
     },
     "execution_count": 15,
     "metadata": {},
     "output_type": "execute_result"
    }
   ],
   "source": [
    "corr_matrix"
   ]
  },
  {
   "cell_type": "code",
   "execution_count": 16,
   "id": "finite-klein",
   "metadata": {
    "execution": {
     "iopub.execute_input": "2021-05-02T20:55:59.504248Z",
     "iopub.status.busy": "2021-05-02T20:55:59.503318Z",
     "iopub.status.idle": "2021-05-02T20:55:59.510912Z",
     "shell.execute_reply": "2021-05-02T20:55:59.511440Z"
    },
    "papermill": {
     "duration": 0.066662,
     "end_time": "2021-05-02T20:55:59.511612",
     "exception": false,
     "start_time": "2021-05-02T20:55:59.444950",
     "status": "completed"
    },
    "tags": []
   },
   "outputs": [
    {
     "data": {
      "text/plain": [
       "Survived    1.000000\n",
       "Age        -0.077221\n",
       "Pclass     -0.338481\n",
       "Name: Survived, dtype: float64"
      ]
     },
     "execution_count": 16,
     "metadata": {},
     "output_type": "execute_result"
    }
   ],
   "source": [
    "corr_matrix['Survived'].sort_values(ascending=False)"
   ]
  },
  {
   "cell_type": "markdown",
   "id": "labeled-accommodation",
   "metadata": {
    "papermill": {
     "duration": 0.055749,
     "end_time": "2021-05-02T20:55:59.623440",
     "exception": false,
     "start_time": "2021-05-02T20:55:59.567691",
     "status": "completed"
    },
    "tags": []
   },
   "source": [
    "# Prepare the data for Machine Learning Algorithms"
   ]
  },
  {
   "cell_type": "markdown",
   "id": "advance-shakespeare",
   "metadata": {
    "papermill": {
     "duration": 0.055795,
     "end_time": "2021-05-02T20:55:59.734944",
     "exception": false,
     "start_time": "2021-05-02T20:55:59.679149",
     "status": "completed"
    },
    "tags": []
   },
   "source": [
    "## Data Cleaning"
   ]
  },
  {
   "cell_type": "code",
   "execution_count": 17,
   "id": "pacific-reggae",
   "metadata": {
    "execution": {
     "iopub.execute_input": "2021-05-02T20:55:59.856458Z",
     "iopub.status.busy": "2021-05-02T20:55:59.855797Z",
     "iopub.status.idle": "2021-05-02T20:55:59.858726Z",
     "shell.execute_reply": "2021-05-02T20:55:59.859220Z"
    },
    "papermill": {
     "duration": 0.067947,
     "end_time": "2021-05-02T20:55:59.859374",
     "exception": false,
     "start_time": "2021-05-02T20:55:59.791427",
     "status": "completed"
    },
    "tags": []
   },
   "outputs": [],
   "source": [
    "titanic = titanic.drop('Survived', axis=1)\n",
    "titanic_labels = train_data['Survived'].copy()"
   ]
  },
  {
   "cell_type": "code",
   "execution_count": 18,
   "id": "beneficial-makeup",
   "metadata": {
    "execution": {
     "iopub.execute_input": "2021-05-02T20:55:59.975519Z",
     "iopub.status.busy": "2021-05-02T20:55:59.974880Z",
     "iopub.status.idle": "2021-05-02T20:56:00.237375Z",
     "shell.execute_reply": "2021-05-02T20:56:00.236687Z"
    },
    "papermill": {
     "duration": 0.321827,
     "end_time": "2021-05-02T20:56:00.237527",
     "exception": false,
     "start_time": "2021-05-02T20:55:59.915700",
     "status": "completed"
    },
    "tags": []
   },
   "outputs": [
    {
     "data": {
      "text/plain": [
       "array([28.])"
      ]
     },
     "execution_count": 18,
     "metadata": {},
     "output_type": "execute_result"
    }
   ],
   "source": [
    "from sklearn.impute import SimpleImputer\n",
    "\n",
    "imputer = SimpleImputer(strategy=\"median\")\n",
    "titanic_num = titanic.drop([\"Pclass\", \"Embarked\", \"Sex\"], axis=1)\n",
    "imputer.fit(titanic_num)\n",
    "imputer.statistics_"
   ]
  },
  {
   "cell_type": "code",
   "execution_count": 19,
   "id": "thorough-documentary",
   "metadata": {
    "execution": {
     "iopub.execute_input": "2021-05-02T20:56:00.360529Z",
     "iopub.status.busy": "2021-05-02T20:56:00.359510Z",
     "iopub.status.idle": "2021-05-02T20:56:00.366067Z",
     "shell.execute_reply": "2021-05-02T20:56:00.365460Z"
    },
    "papermill": {
     "duration": 0.071333,
     "end_time": "2021-05-02T20:56:00.366218",
     "exception": false,
     "start_time": "2021-05-02T20:56:00.294885",
     "status": "completed"
    },
    "tags": []
   },
   "outputs": [],
   "source": [
    "X = imputer.fit_transform(titanic_num)\n",
    "titanic_tr = pd.DataFrame(X, columns=titanic_num.columns)"
   ]
  },
  {
   "cell_type": "markdown",
   "id": "worthy-prospect",
   "metadata": {
    "papermill": {
     "duration": 0.056754,
     "end_time": "2021-05-02T20:56:00.479828",
     "exception": false,
     "start_time": "2021-05-02T20:56:00.423074",
     "status": "completed"
    },
    "tags": []
   },
   "source": [
    "## Categorial and text data"
   ]
  },
  {
   "cell_type": "code",
   "execution_count": 20,
   "id": "artificial-rapid",
   "metadata": {
    "execution": {
     "iopub.execute_input": "2021-05-02T20:56:00.598756Z",
     "iopub.status.busy": "2021-05-02T20:56:00.598071Z",
     "iopub.status.idle": "2021-05-02T20:56:00.601329Z",
     "shell.execute_reply": "2021-05-02T20:56:00.600718Z"
    },
    "papermill": {
     "duration": 0.065087,
     "end_time": "2021-05-02T20:56:00.601460",
     "exception": false,
     "start_time": "2021-05-02T20:56:00.536373",
     "status": "completed"
    },
    "tags": []
   },
   "outputs": [],
   "source": [
    "titanic_cat = titanic[[\"Sex\", \"Pclass\", \"Embarked\"]]"
   ]
  },
  {
   "cell_type": "code",
   "execution_count": 21,
   "id": "respiratory-youth",
   "metadata": {
    "execution": {
     "iopub.execute_input": "2021-05-02T20:56:00.724272Z",
     "iopub.status.busy": "2021-05-02T20:56:00.723334Z",
     "iopub.status.idle": "2021-05-02T20:56:00.727802Z",
     "shell.execute_reply": "2021-05-02T20:56:00.727111Z"
    },
    "papermill": {
     "duration": 0.069549,
     "end_time": "2021-05-02T20:56:00.727939",
     "exception": false,
     "start_time": "2021-05-02T20:56:00.658390",
     "status": "completed"
    },
    "tags": []
   },
   "outputs": [],
   "source": [
    "from sklearn.preprocessing import OneHotEncoder\n",
    "\n",
    "cat_encoder = OneHotEncoder()\n",
    "titanic_cat_1hot = cat_encoder.fit_transform(titanic_cat)"
   ]
  },
  {
   "cell_type": "markdown",
   "id": "verified-engineer",
   "metadata": {
    "papermill": {
     "duration": 0.058745,
     "end_time": "2021-05-02T20:56:00.845258",
     "exception": false,
     "start_time": "2021-05-02T20:56:00.786513",
     "status": "completed"
    },
    "tags": []
   },
   "source": [
    "## Feature Scaling"
   ]
  },
  {
   "cell_type": "code",
   "execution_count": 22,
   "id": "existing-chart",
   "metadata": {
    "_kg_hide-output": true,
    "execution": {
     "iopub.execute_input": "2021-05-02T20:56:00.970731Z",
     "iopub.status.busy": "2021-05-02T20:56:00.968337Z",
     "iopub.status.idle": "2021-05-02T20:56:00.993861Z",
     "shell.execute_reply": "2021-05-02T20:56:00.994380Z"
    },
    "papermill": {
     "duration": 0.091405,
     "end_time": "2021-05-02T20:56:00.994559",
     "exception": false,
     "start_time": "2021-05-02T20:56:00.903154",
     "status": "completed"
    },
    "tags": []
   },
   "outputs": [
    {
     "data": {
      "text/plain": [
       "array([[-0.46153846],\n",
       "       [ 0.76923077],\n",
       "       [-0.15384615],\n",
       "       [ 0.53846154],\n",
       "       [ 0.53846154],\n",
       "       [ 0.        ],\n",
       "       [ 2.        ],\n",
       "       [-2.        ],\n",
       "       [-0.07692308],\n",
       "       [-1.07692308],\n",
       "       [-1.84615385],\n",
       "       [ 2.30769231],\n",
       "       [-0.61538462],\n",
       "       [ 0.84615385],\n",
       "       [-1.07692308],\n",
       "       [ 2.07692308],\n",
       "       [-2.        ],\n",
       "       [ 0.        ],\n",
       "       [ 0.23076923],\n",
       "       [ 0.        ],\n",
       "       [ 0.53846154],\n",
       "       [ 0.46153846],\n",
       "       [-1.        ],\n",
       "       [ 0.        ],\n",
       "       [-1.53846154],\n",
       "       [ 0.76923077],\n",
       "       [ 0.        ],\n",
       "       [-0.69230769],\n",
       "       [ 0.        ],\n",
       "       [ 0.        ],\n",
       "       [ 0.92307692],\n",
       "       [ 0.        ],\n",
       "       [ 0.        ],\n",
       "       [ 2.92307692],\n",
       "       [ 0.        ],\n",
       "       [ 1.07692308],\n",
       "       [ 0.        ],\n",
       "       [-0.53846154],\n",
       "       [-0.76923077],\n",
       "       [-1.07692308],\n",
       "       [ 0.92307692],\n",
       "       [-0.07692308],\n",
       "       [ 0.        ],\n",
       "       [-1.92307692],\n",
       "       [-0.69230769],\n",
       "       [ 0.        ],\n",
       "       [ 0.        ],\n",
       "       [ 0.        ],\n",
       "       [ 0.        ],\n",
       "       [-0.76923077],\n",
       "       [-1.61538462],\n",
       "       [-0.53846154],\n",
       "       [ 1.61538462],\n",
       "       [ 0.07692308],\n",
       "       [ 2.84615385],\n",
       "       [ 0.        ],\n",
       "       [-0.53846154],\n",
       "       [ 0.03846154],\n",
       "       [-1.76923077],\n",
       "       [-1.30769231],\n",
       "       [-0.46153846],\n",
       "       [ 0.76923077],\n",
       "       [ 1.30769231],\n",
       "       [-1.84615385],\n",
       "       [ 0.        ],\n",
       "       [ 0.        ],\n",
       "       [ 0.07692308],\n",
       "       [-0.69230769],\n",
       "       [-0.84615385],\n",
       "       [-0.15384615],\n",
       "       [ 0.30769231],\n",
       "       [-0.92307692],\n",
       "       [-0.53846154],\n",
       "       [-0.15384615],\n",
       "       [ 0.30769231],\n",
       "       [-0.23076923],\n",
       "       [ 0.        ],\n",
       "       [ 0.        ],\n",
       "       [-2.09      ],\n",
       "       [ 0.15384615],\n",
       "       [-0.46153846],\n",
       "       [ 0.07692308],\n",
       "       [ 0.        ],\n",
       "       [ 0.        ],\n",
       "       [-0.84615385],\n",
       "       [ 0.38461538],\n",
       "       [-0.92307692],\n",
       "       [ 0.        ],\n",
       "       [-0.38461538],\n",
       "       [-0.30769231],\n",
       "       [ 0.07692308],\n",
       "       [-0.61538462],\n",
       "       [ 1.38461538],\n",
       "       [-0.15384615],\n",
       "       [ 2.38461538],\n",
       "       [ 0.        ],\n",
       "       [ 3.30769231],\n",
       "       [-0.38461538],\n",
       "       [ 0.46153846],\n",
       "       [ 0.46153846],\n",
       "       [ 0.        ],\n",
       "       [ 0.        ],\n",
       "       [-0.53846154],\n",
       "       [ 0.38461538],\n",
       "       [ 0.69230769],\n",
       "       [ 0.        ],\n",
       "       [-0.53846154],\n",
       "       [ 0.        ],\n",
       "       [ 0.76923077],\n",
       "       [ 0.        ],\n",
       "       [ 1.46153846],\n",
       "       [-1.03846154],\n",
       "       [-0.46153846],\n",
       "       [-0.61538462],\n",
       "       [-0.84615385],\n",
       "       [-0.53846154],\n",
       "       [ 3.26923077],\n",
       "       [ 0.07692308],\n",
       "       [-0.30769231],\n",
       "       [-2.        ],\n",
       "       [-0.53846154],\n",
       "       [ 0.        ],\n",
       "       [ 0.34615385],\n",
       "       [ 0.34615385],\n",
       "       [ 2.        ],\n",
       "       [-1.23076923],\n",
       "       [ 0.        ],\n",
       "       [-0.30769231],\n",
       "       [ 0.        ],\n",
       "       [ 1.30769231],\n",
       "       [ 0.38461538],\n",
       "       [-0.61538462],\n",
       "       [ 1.46153846],\n",
       "       [ 0.07692308],\n",
       "       [-0.23076923],\n",
       "       [-0.38461538],\n",
       "       [-0.69230769],\n",
       "       [ 0.69230769],\n",
       "       [-0.92307692],\n",
       "       [-0.30769231],\n",
       "       [ 0.        ],\n",
       "       [-0.46153846],\n",
       "       [-0.30769231],\n",
       "       [-0.69230769],\n",
       "       [-0.76923077],\n",
       "       [-0.69230769],\n",
       "       [-0.07692308],\n",
       "       [-1.46153846],\n",
       "       [ 0.65384615],\n",
       "       [ 1.07692308],\n",
       "       [ 1.76923077],\n",
       "       [-0.46153846],\n",
       "       [ 2.11538462],\n",
       "       [ 0.96153846],\n",
       "       [ 0.        ],\n",
       "       [ 1.76923077],\n",
       "       [-0.92307692],\n",
       "       [ 0.15384615],\n",
       "       [ 0.        ],\n",
       "       [ 0.        ],\n",
       "       [ 1.23076923],\n",
       "       [ 0.92307692],\n",
       "       [-0.15384615],\n",
       "       [-0.84615385],\n",
       "       [-2.07692308],\n",
       "       [-1.46153846],\n",
       "       [ 0.        ],\n",
       "       [ 1.30769231],\n",
       "       [ 0.        ],\n",
       "       [ 0.        ],\n",
       "       [ 2.53846154],\n",
       "       [-1.84615385],\n",
       "       [-2.07692308],\n",
       "       [-0.53846154],\n",
       "       [ 2.15384615],\n",
       "       [-0.76923077],\n",
       "       [ 0.        ],\n",
       "       [ 1.69230769],\n",
       "       [ 0.15384615],\n",
       "       [ 0.61538462],\n",
       "       [ 0.        ],\n",
       "       [ 0.        ],\n",
       "       [-1.46153846],\n",
       "       [-2.07692308],\n",
       "       [-1.84615385],\n",
       "       [ 0.        ],\n",
       "       [ 0.        ],\n",
       "       [ 1.30769231],\n",
       "       [ 0.92307692],\n",
       "       [ 0.61538462],\n",
       "       [ 0.30769231],\n",
       "       [-0.69230769],\n",
       "       [-0.69230769],\n",
       "       [-1.92307692],\n",
       "       [ 1.23076923],\n",
       "       [ 2.30769231],\n",
       "       [ 0.        ],\n",
       "       [ 1.07692308],\n",
       "       [ 0.        ],\n",
       "       [-0.30769231],\n",
       "       [ 0.        ],\n",
       "       [ 0.        ],\n",
       "       [ 0.46153846],\n",
       "       [ 1.34615385],\n",
       "       [-0.76923077],\n",
       "       [-2.        ],\n",
       "       [ 0.30769231],\n",
       "       [-0.15384615],\n",
       "       [-0.92307692],\n",
       "       [ 0.92307692],\n",
       "       [-0.30769231],\n",
       "       [ 0.53846154],\n",
       "       [-0.46153846],\n",
       "       [ 0.15384615],\n",
       "       [ 0.        ],\n",
       "       [ 0.23076923],\n",
       "       [-0.07692308],\n",
       "       [ 1.07692308],\n",
       "       [ 0.30769231],\n",
       "       [ 0.15384615],\n",
       "       [-0.92307692],\n",
       "       [-0.07692308],\n",
       "       [ 1.76923077],\n",
       "       [ 0.        ],\n",
       "       [ 0.76923077],\n",
       "       [-0.46153846],\n",
       "       [-0.69230769],\n",
       "       [-0.57692308],\n",
       "       [-0.76923077],\n",
       "       [ 0.        ],\n",
       "       [ 0.53846154],\n",
       "       [ 0.07692308],\n",
       "       [ 2.38461538],\n",
       "       [-1.76923077],\n",
       "       [-0.30769231],\n",
       "       [ 0.        ],\n",
       "       [ 1.23076923],\n",
       "       [-1.53846154],\n",
       "       [-0.69230769],\n",
       "       [ 0.38461538],\n",
       "       [ 0.        ],\n",
       "       [ 0.        ],\n",
       "       [ 0.07692308],\n",
       "       [-0.46153846],\n",
       "       [ 0.15384615],\n",
       "       [ 1.23076923],\n",
       "       [-0.23076923],\n",
       "       [-0.30769231],\n",
       "       [ 0.69230769],\n",
       "       [ 2.        ],\n",
       "       [ 0.        ],\n",
       "       [ 0.07692308],\n",
       "       [ 2.61538462],\n",
       "       [ 0.15384615],\n",
       "       [ 1.        ],\n",
       "       [ 0.07692308],\n",
       "       [ 0.        ],\n",
       "       [ 0.15384615],\n",
       "       [ 0.53846154],\n",
       "       [ 1.69230769],\n",
       "       [ 0.        ],\n",
       "       [-1.92307692],\n",
       "       [ 1.84615385],\n",
       "       [ 0.92307692],\n",
       "       [ 0.        ],\n",
       "       [ 0.61538462],\n",
       "       [-0.92307692],\n",
       "       [-0.23076923],\n",
       "       [ 2.30769231],\n",
       "       [ 0.53846154],\n",
       "       [ 0.        ],\n",
       "       [-0.23076923],\n",
       "       [ 1.        ],\n",
       "       [ 0.69230769],\n",
       "       [ 0.        ],\n",
       "       [ 2.69230769],\n",
       "       [ 1.30769231],\n",
       "       [ 0.        ],\n",
       "       [-1.61538462],\n",
       "       [ 0.53846154],\n",
       "       [ 2.84615385],\n",
       "       [ 0.        ],\n",
       "       [-0.92307692],\n",
       "       [-0.69230769],\n",
       "       [ 0.        ],\n",
       "       [ 0.38461538],\n",
       "       [ 0.15384615],\n",
       "       [-0.46153846],\n",
       "       [ 1.07692308],\n",
       "       [-0.46153846],\n",
       "       [-0.15384615],\n",
       "       [-0.69230769],\n",
       "       [ 0.61538462],\n",
       "       [-0.30769231],\n",
       "       [-0.30769231],\n",
       "       [ 0.        ],\n",
       "       [-0.34615385],\n",
       "       [-2.        ],\n",
       "       [ 0.        ],\n",
       "       [ 1.69230769],\n",
       "       [ 0.        ],\n",
       "       [ 0.        ],\n",
       "       [-0.69230769],\n",
       "       [ 0.        ],\n",
       "       [ 0.        ],\n",
       "       [-2.08307692],\n",
       "       [ 0.        ],\n",
       "       [-0.84615385],\n",
       "       [ 0.15384615],\n",
       "       [ 0.15384615],\n",
       "       [-0.30769231],\n",
       "       [-0.76923077],\n",
       "       [-0.15384615],\n",
       "       [ 0.        ],\n",
       "       [ 1.15384615],\n",
       "       [-0.15384615],\n",
       "       [-0.30769231],\n",
       "       [ 2.        ],\n",
       "       [ 0.23076923],\n",
       "       [ 0.92307692],\n",
       "       [-0.46153846],\n",
       "       [-0.07692308],\n",
       "       [ 0.15384615],\n",
       "       [-0.46153846],\n",
       "       [ 0.        ],\n",
       "       [ 0.61538462],\n",
       "       [ 2.53846154],\n",
       "       [ 0.61538462],\n",
       "       [ 0.23076923],\n",
       "       [-0.92307692],\n",
       "       [ 0.        ],\n",
       "       [ 1.34615385],\n",
       "       [ 0.76923077],\n",
       "       [-0.92307692],\n",
       "       [ 0.        ],\n",
       "       [ 0.        ],\n",
       "       [ 0.07692308],\n",
       "       [ 1.        ],\n",
       "       [ 1.30769231],\n",
       "       [ 1.30769231],\n",
       "       [-2.        ],\n",
       "       [-0.30769231],\n",
       "       [ 0.        ],\n",
       "       [-0.23076923],\n",
       "       [ 0.61538462],\n",
       "       [-0.30769231],\n",
       "       [ 0.92307692],\n",
       "       [ 0.        ],\n",
       "       [-1.92307692],\n",
       "       [ 1.07692308],\n",
       "       [-0.38461538],\n",
       "       [ 0.        ],\n",
       "       [-1.        ],\n",
       "       [-0.23076923],\n",
       "       [ 0.        ],\n",
       "       [ 0.        ],\n",
       "       [-0.46153846],\n",
       "       [ 0.76923077],\n",
       "       [ 0.        ],\n",
       "       [ 0.        ],\n",
       "       [ 0.92307692],\n",
       "       [ 0.07692308],\n",
       "       [ 1.30769231],\n",
       "       [ 0.53846154],\n",
       "       [ 0.        ],\n",
       "       [ 0.15384615],\n",
       "       [ 2.46153846],\n",
       "       [ 0.        ],\n",
       "       [ 0.        ],\n",
       "       [-0.30769231],\n",
       "       [-0.23076923],\n",
       "       [-0.76923077],\n",
       "       [-0.69230769],\n",
       "       [-0.46153846],\n",
       "       [-1.92307692],\n",
       "       [ 0.        ],\n",
       "       [-0.46153846],\n",
       "       [-0.07692308],\n",
       "       [-0.61538462],\n",
       "       [-0.69230769],\n",
       "       [ 1.07692308],\n",
       "       [-2.07692308],\n",
       "       [ 0.30769231],\n",
       "       [ 0.53846154],\n",
       "       [ 0.        ],\n",
       "       [-0.76923077],\n",
       "       [-2.07692308],\n",
       "       [ 0.61538462],\n",
       "       [ 0.        ],\n",
       "       [-0.84615385],\n",
       "       [ 0.61538462],\n",
       "       [-0.53846154],\n",
       "       [ 0.        ],\n",
       "       [-0.38461538],\n",
       "       [-0.30769231],\n",
       "       [-0.46153846],\n",
       "       [ 0.23076923],\n",
       "       [ 1.38461538],\n",
       "       [-0.38461538],\n",
       "       [ 0.        ],\n",
       "       [ 0.84615385],\n",
       "       [-0.15384615],\n",
       "       [-0.53846154],\n",
       "       [ 0.        ],\n",
       "       [-0.61538462],\n",
       "       [ 0.46153846],\n",
       "       [ 1.76923077],\n",
       "       [-1.92307692],\n",
       "       [-0.53846154],\n",
       "       [ 0.        ],\n",
       "       [ 0.        ],\n",
       "       [ 0.        ],\n",
       "       [ 0.38461538],\n",
       "       [ 0.        ],\n",
       "       [ 1.23076923],\n",
       "       [ 0.        ],\n",
       "       [ 0.46153846],\n",
       "       [-0.76923077],\n",
       "       [ 0.15384615],\n",
       "       [-1.38461538],\n",
       "       [ 0.        ],\n",
       "       [-0.53846154],\n",
       "       [ 0.07692308],\n",
       "       [ 0.        ],\n",
       "       [-0.76923077],\n",
       "       [ 0.        ],\n",
       "       [ 0.        ],\n",
       "       [-0.69230769],\n",
       "       [ 0.        ],\n",
       "       [ 0.30769231],\n",
       "       [ 0.        ],\n",
       "       [ 0.        ],\n",
       "       [ 1.07692308],\n",
       "       [-0.84615385],\n",
       "       [ 1.69230769],\n",
       "       [-1.07692308],\n",
       "       [-0.53846154],\n",
       "       [-0.30769231],\n",
       "       [ 2.76923077],\n",
       "       [ 0.23076923],\n",
       "       [ 1.30769231],\n",
       "       [-0.61538462],\n",
       "       [-0.23076923],\n",
       "       [ 0.        ],\n",
       "       [ 0.        ],\n",
       "       [-1.84615385],\n",
       "       [-1.15384615],\n",
       "       [ 0.46153846],\n",
       "       [-1.76923077],\n",
       "       [ 1.84615385],\n",
       "       [ 0.61538462],\n",
       "       [ 0.        ],\n",
       "       [ 0.15384615],\n",
       "       [ 1.61538462],\n",
       "       [ 0.        ],\n",
       "       [ 0.07692308],\n",
       "       [ 2.84615385],\n",
       "       [ 0.        ],\n",
       "       [ 1.69230769],\n",
       "       [ 0.        ],\n",
       "       [ 1.53846154],\n",
       "       [ 0.46153846],\n",
       "       [ 1.46153846],\n",
       "       [ 1.53846154],\n",
       "       [ 0.        ],\n",
       "       [ 0.76923077],\n",
       "       [ 0.        ],\n",
       "       [ 2.15384615],\n",
       "       [ 0.        ],\n",
       "       [-2.09615385],\n",
       "       [ 0.        ],\n",
       "       [ 0.76923077],\n",
       "       [ 0.38461538],\n",
       "       [-0.38461538],\n",
       "       [-0.46153846],\n",
       "       [ 0.        ],\n",
       "       [ 0.46153846],\n",
       "       [ 0.07692308],\n",
       "       [-0.46153846],\n",
       "       [-2.        ],\n",
       "       [-1.46153846],\n",
       "       [ 0.        ],\n",
       "       [ 1.69230769],\n",
       "       [ 2.69230769],\n",
       "       [-0.23076923],\n",
       "       [ 0.        ],\n",
       "       [ 0.53846154],\n",
       "       [ 2.30769231],\n",
       "       [ 0.15384615],\n",
       "       [-1.46153846],\n",
       "       [ 0.        ],\n",
       "       [-0.53846154],\n",
       "       [ 2.07692308],\n",
       "       [ 3.30769231],\n",
       "       [-0.53846154],\n",
       "       [ 0.        ],\n",
       "       [ 2.        ],\n",
       "       [ 0.        ],\n",
       "       [-0.23076923],\n",
       "       [-0.30769231],\n",
       "       [-0.84615385],\n",
       "       [-0.53846154],\n",
       "       [ 0.        ],\n",
       "       [ 0.69230769],\n",
       "       [-0.92307692],\n",
       "       [-0.76923077],\n",
       "       [ 0.38461538],\n",
       "       [ 0.        ],\n",
       "       [ 0.        ],\n",
       "       [-0.15384615],\n",
       "       [ 0.07692308],\n",
       "       [ 0.        ],\n",
       "       [ 0.61538462],\n",
       "       [ 2.        ],\n",
       "       [-0.30769231],\n",
       "       [ 1.46153846],\n",
       "       [ 0.46153846],\n",
       "       [ 0.        ],\n",
       "       [ 0.61538462],\n",
       "       [ 0.30769231],\n",
       "       [ 0.15384615],\n",
       "       [-0.46153846],\n",
       "       [ 0.        ],\n",
       "       [ 1.23076923],\n",
       "       [ 0.        ],\n",
       "       [ 0.96153846],\n",
       "       [ 1.69230769],\n",
       "       [ 0.        ],\n",
       "       [ 0.84615385],\n",
       "       [-0.38461538],\n",
       "       [-2.        ],\n",
       "       [ 0.        ],\n",
       "       [-0.84615385],\n",
       "       [ 0.        ],\n",
       "       [ 0.15384615],\n",
       "       [-1.61538462],\n",
       "       [ 1.30769231],\n",
       "       [ 0.15384615],\n",
       "       [ 0.        ],\n",
       "       [-0.46153846],\n",
       "       [ 0.61538462],\n",
       "       [-1.46153846],\n",
       "       [-1.30769231],\n",
       "       [ 0.30769231],\n",
       "       [ 1.69230769],\n",
       "       [ 2.76923077],\n",
       "       [-0.69230769],\n",
       "       [ 0.        ],\n",
       "       [ 0.38461538],\n",
       "       [-1.53846154],\n",
       "       [-0.84615385],\n",
       "       [-0.07692308],\n",
       "       [ 0.        ],\n",
       "       [-0.46153846],\n",
       "       [-0.46153846],\n",
       "       [ 2.61538462],\n",
       "       [ 1.53846154],\n",
       "       [ 0.        ],\n",
       "       [ 0.84615385],\n",
       "       [ 0.61538462],\n",
       "       [ 0.        ],\n",
       "       [ 0.92307692],\n",
       "       [ 0.        ],\n",
       "       [ 0.        ],\n",
       "       [ 0.        ],\n",
       "       [-0.30769231],\n",
       "       [-0.69230769],\n",
       "       [ 0.07692308],\n",
       "       [ 0.        ],\n",
       "       [ 0.30769231],\n",
       "       [ 2.61538462],\n",
       "       [ 1.92307692],\n",
       "       [ 0.61538462],\n",
       "       [ 0.        ],\n",
       "       [-0.92307692],\n",
       "       [-0.69230769],\n",
       "       [ 0.46153846],\n",
       "       [ 0.84615385],\n",
       "       [ 0.        ],\n",
       "       [ 0.30769231],\n",
       "       [-0.23076923],\n",
       "       [ 0.84615385],\n",
       "       [ 2.        ],\n",
       "       [ 0.61538462],\n",
       "       [ 0.        ],\n",
       "       [-0.76923077],\n",
       "       [ 1.46153846],\n",
       "       [ 2.46153846],\n",
       "       [-0.46153846],\n",
       "       [ 0.        ],\n",
       "       [ 0.53846154],\n",
       "       [ 1.84615385],\n",
       "       [ 1.46153846],\n",
       "       [ 0.        ],\n",
       "       [ 0.69230769],\n",
       "       [ 0.61538462],\n",
       "       [ 0.        ],\n",
       "       [ 1.61538462],\n",
       "       [ 0.        ],\n",
       "       [ 1.61538462],\n",
       "       [-0.30769231],\n",
       "       [ 0.        ],\n",
       "       [ 0.        ],\n",
       "       [ 1.23076923],\n",
       "       [ 0.53846154],\n",
       "       [ 0.61538462],\n",
       "       [ 0.15384615],\n",
       "       [-0.07692308],\n",
       "       [-0.46153846],\n",
       "       [ 0.92307692],\n",
       "       [ 0.84615385],\n",
       "       [ 0.        ],\n",
       "       [ 0.        ],\n",
       "       [ 0.        ],\n",
       "       [ 0.53846154],\n",
       "       [-0.30769231],\n",
       "       [ 0.46153846],\n",
       "       [-0.15384615],\n",
       "       [-1.84615385],\n",
       "       [-0.15384615],\n",
       "       [-0.07692308],\n",
       "       [ 1.07692308],\n",
       "       [-0.61538462],\n",
       "       [-0.53846154],\n",
       "       [-0.53846154],\n",
       "       [ 2.53846154],\n",
       "       [ 2.23076923],\n",
       "       [-0.53846154],\n",
       "       [-0.15384615],\n",
       "       [ 0.        ],\n",
       "       [ 4.        ],\n",
       "       [ 1.76923077],\n",
       "       [ 0.30769231],\n",
       "       [ 0.        ],\n",
       "       [-1.46153846],\n",
       "       [ 0.        ],\n",
       "       [ 0.30769231],\n",
       "       [ 0.23076923],\n",
       "       [ 1.        ],\n",
       "       [ 0.        ],\n",
       "       [-0.61538462],\n",
       "       [-0.30769231],\n",
       "       [-2.        ],\n",
       "       [ 0.        ],\n",
       "       [-2.09615385],\n",
       "       [ 1.53846154],\n",
       "       [-0.69230769],\n",
       "       [ 2.15384615],\n",
       "       [ 0.        ],\n",
       "       [-0.38461538],\n",
       "       [ 0.        ],\n",
       "       [-0.76923077],\n",
       "       [-0.53846154],\n",
       "       [ 0.        ],\n",
       "       [-0.76923077],\n",
       "       [-0.30769231],\n",
       "       [ 0.        ],\n",
       "       [ 0.30769231],\n",
       "       [-0.38461538],\n",
       "       [ 2.30769231],\n",
       "       [ 1.69230769],\n",
       "       [ 0.92307692],\n",
       "       [ 1.46153846],\n",
       "       [ 0.61538462],\n",
       "       [-0.61538462],\n",
       "       [ 0.30769231],\n",
       "       [-0.23076923],\n",
       "       [ 0.        ],\n",
       "       [ 1.15384615],\n",
       "       [ 0.        ],\n",
       "       [ 0.92307692],\n",
       "       [ 0.23076923],\n",
       "       [ 3.23076923],\n",
       "       [ 0.23076923],\n",
       "       [ 0.        ],\n",
       "       [-0.76923077],\n",
       "       [-0.26923077],\n",
       "       [-0.76923077],\n",
       "       [ 1.15384615],\n",
       "       [ 0.61538462],\n",
       "       [ 0.        ],\n",
       "       [-0.07692308],\n",
       "       [-0.61538462],\n",
       "       [-1.07692308],\n",
       "       [ 2.46153846],\n",
       "       [-0.23076923],\n",
       "       [-1.07692308],\n",
       "       [-0.69230769],\n",
       "       [-0.76923077],\n",
       "       [-1.        ],\n",
       "       [ 0.23076923],\n",
       "       [-1.84615385],\n",
       "       [ 0.        ],\n",
       "       [-0.23076923],\n",
       "       [ 2.46153846],\n",
       "       [ 1.84615385],\n",
       "       [ 1.23076923],\n",
       "       [ 0.        ],\n",
       "       [ 1.61538462],\n",
       "       [ 1.07692308],\n",
       "       [-0.76923077],\n",
       "       [ 0.53846154],\n",
       "       [-0.76923077],\n",
       "       [-0.23076923],\n",
       "       [-0.15384615],\n",
       "       [ 0.84615385],\n",
       "       [ 1.30769231],\n",
       "       [ 1.07692308],\n",
       "       [-0.46153846],\n",
       "       [ 0.        ],\n",
       "       [-0.30769231],\n",
       "       [ 0.        ],\n",
       "       [ 1.53846154],\n",
       "       [ 0.07692308],\n",
       "       [ 1.84615385],\n",
       "       [-0.69230769],\n",
       "       [ 0.76923077],\n",
       "       [-0.07692308],\n",
       "       [ 0.        ],\n",
       "       [ 0.38461538],\n",
       "       [-1.69230769],\n",
       "       [-0.84615385],\n",
       "       [ 0.46153846],\n",
       "       [ 1.69230769],\n",
       "       [-0.07692308],\n",
       "       [-0.61538462],\n",
       "       [ 0.15384615],\n",
       "       [ 0.        ],\n",
       "       [-0.23076923],\n",
       "       [-0.23076923],\n",
       "       [ 0.07692308],\n",
       "       [-1.30769231],\n",
       "       [ 0.        ],\n",
       "       [-0.38461538],\n",
       "       [-0.38461538],\n",
       "       [ 0.03846154],\n",
       "       [ 1.53846154],\n",
       "       [ 0.53846154],\n",
       "       [ 0.        ],\n",
       "       [ 0.        ],\n",
       "       [ 0.        ],\n",
       "       [ 0.61538462],\n",
       "       [-0.53846154],\n",
       "       [-0.30769231],\n",
       "       [ 0.23076923],\n",
       "       [ 3.23076923],\n",
       "       [-0.92307692],\n",
       "       [ 0.15384615],\n",
       "       [-0.69230769],\n",
       "       [ 0.23076923],\n",
       "       [-1.84615385],\n",
       "       [-1.69230769],\n",
       "       [ 0.38461538],\n",
       "       [-0.38461538],\n",
       "       [ 1.53846154],\n",
       "       [-2.10230769],\n",
       "       [ 0.        ],\n",
       "       [-0.76923077],\n",
       "       [ 0.46153846],\n",
       "       [ 0.38461538],\n",
       "       [ 0.        ],\n",
       "       [ 1.        ],\n",
       "       [-0.61538462],\n",
       "       [ 0.61538462],\n",
       "       [-0.92307692],\n",
       "       [ 1.76923077],\n",
       "       [ 0.        ],\n",
       "       [ 0.19230769],\n",
       "       [ 0.        ],\n",
       "       [ 0.30769231],\n",
       "       [-0.30769231],\n",
       "       [ 1.53846154],\n",
       "       [ 2.23076923],\n",
       "       [ 0.        ],\n",
       "       [ 2.        ],\n",
       "       [-0.76923077],\n",
       "       [ 0.        ],\n",
       "       [-1.76923077],\n",
       "       [ 0.        ],\n",
       "       [ 1.15384615],\n",
       "       [-1.15384615],\n",
       "       [-0.84615385],\n",
       "       [ 0.07692308],\n",
       "       [ 0.        ],\n",
       "       [-0.23076923],\n",
       "       [-0.23076923],\n",
       "       [-0.76923077],\n",
       "       [-1.53846154],\n",
       "       [-2.07692308],\n",
       "       [ 1.38461538],\n",
       "       [ 0.        ],\n",
       "       [-0.92307692],\n",
       "       [ 0.        ],\n",
       "       [ 0.        ],\n",
       "       [-0.23076923],\n",
       "       [ 0.84615385],\n",
       "       [ 1.61538462],\n",
       "       [ 0.23076923],\n",
       "       [ 0.15384615],\n",
       "       [ 0.15384615],\n",
       "       [ 0.46153846],\n",
       "       [ 0.23076923],\n",
       "       [-1.30769231],\n",
       "       [-2.12153846],\n",
       "       [-0.07692308],\n",
       "       [ 0.23076923],\n",
       "       [ 0.84615385],\n",
       "       [-0.76923077],\n",
       "       [ 0.84615385],\n",
       "       [ 0.38461538],\n",
       "       [-0.15384615],\n",
       "       [ 0.84615385],\n",
       "       [ 0.53846154],\n",
       "       [-1.69230769],\n",
       "       [ 0.19230769],\n",
       "       [ 0.        ],\n",
       "       [-0.38461538],\n",
       "       [ 0.23076923],\n",
       "       [ 1.15384615],\n",
       "       [-1.38461538],\n",
       "       [ 1.84615385],\n",
       "       [-0.07692308],\n",
       "       [ 0.76923077],\n",
       "       [-0.07692308],\n",
       "       [-2.        ],\n",
       "       [ 0.        ],\n",
       "       [ 0.        ],\n",
       "       [-2.07692308],\n",
       "       [ 0.        ],\n",
       "       [ 2.61538462],\n",
       "       [-1.        ],\n",
       "       [-2.09      ],\n",
       "       [ 0.        ],\n",
       "       [-0.38461538],\n",
       "       [-0.76923077],\n",
       "       [ 0.84615385],\n",
       "       [-0.53846154],\n",
       "       [ 0.        ],\n",
       "       [ 0.30769231],\n",
       "       [ 0.        ],\n",
       "       [-0.61538462],\n",
       "       [-0.92307692],\n",
       "       [ 0.15384615],\n",
       "       [ 0.5       ],\n",
       "       [-0.84615385],\n",
       "       [ 1.07692308],\n",
       "       [ 0.        ],\n",
       "       [ 0.53846154],\n",
       "       [ 0.        ],\n",
       "       [ 0.        ],\n",
       "       [-1.84615385],\n",
       "       [ 3.53846154],\n",
       "       [-1.46153846],\n",
       "       [-0.92307692],\n",
       "       [ 1.23076923],\n",
       "       [-0.76923077],\n",
       "       [ 1.30769231],\n",
       "       [ 1.76923077],\n",
       "       [-0.30769231],\n",
       "       [ 0.        ],\n",
       "       [ 1.        ],\n",
       "       [-0.53846154],\n",
       "       [ 1.53846154],\n",
       "       [ 0.        ],\n",
       "       [-0.30769231],\n",
       "       [ 1.07692308],\n",
       "       [-0.07692308],\n",
       "       [ 0.23076923],\n",
       "       [ 0.        ],\n",
       "       [-1.84615385],\n",
       "       [-0.15384615],\n",
       "       [ 1.46153846],\n",
       "       [ 0.38461538],\n",
       "       [ 1.46153846],\n",
       "       [ 0.        ],\n",
       "       [-1.        ],\n",
       "       [-0.61538462],\n",
       "       [-0.69230769],\n",
       "       [ 0.        ],\n",
       "       [ 2.15384615],\n",
       "       [-0.23076923],\n",
       "       [ 0.38461538],\n",
       "       [-0.46153846],\n",
       "       [ 0.        ],\n",
       "       [-0.23076923],\n",
       "       [ 0.84615385],\n",
       "       [-0.07692308],\n",
       "       [-0.69230769],\n",
       "       [ 0.        ],\n",
       "       [-0.15384615],\n",
       "       [ 0.30769231]])"
      ]
     },
     "execution_count": 22,
     "metadata": {},
     "output_type": "execute_result"
    }
   ],
   "source": [
    "from sklearn.preprocessing import RobustScaler\n",
    "\n",
    "scaler = RobustScaler()\n",
    "scaler.fit_transform(titanic_tr)"
   ]
  },
  {
   "cell_type": "code",
   "execution_count": 23,
   "id": "korean-toolbox",
   "metadata": {
    "execution": {
     "iopub.execute_input": "2021-05-02T20:56:01.116063Z",
     "iopub.status.busy": "2021-05-02T20:56:01.115437Z",
     "iopub.status.idle": "2021-05-02T20:56:01.127430Z",
     "shell.execute_reply": "2021-05-02T20:56:01.127954Z"
    },
    "papermill": {
     "duration": 0.074053,
     "end_time": "2021-05-02T20:56:01.128120",
     "exception": false,
     "start_time": "2021-05-02T20:56:01.054067",
     "status": "completed"
    },
    "tags": []
   },
   "outputs": [],
   "source": [
    "from sklearn.pipeline import Pipeline\n",
    "\n",
    "num_pipeline = Pipeline([\n",
    "    (\"imputer\", SimpleImputer(strategy=\"median\")),\n",
    "    (\"scaler\", RobustScaler())])\n",
    "    \n",
    "titanic_num_tr = num_pipeline.fit_transform(titanic_num)"
   ]
  },
  {
   "cell_type": "markdown",
   "id": "proprietary-slave",
   "metadata": {
    "papermill": {
     "duration": 0.058084,
     "end_time": "2021-05-02T20:56:01.244759",
     "exception": false,
     "start_time": "2021-05-02T20:56:01.186675",
     "status": "completed"
    },
    "tags": []
   },
   "source": [
    "## Pipeline"
   ]
  },
  {
   "cell_type": "code",
   "execution_count": 24,
   "id": "native-berry",
   "metadata": {
    "execution": {
     "iopub.execute_input": "2021-05-02T20:56:01.364505Z",
     "iopub.status.busy": "2021-05-02T20:56:01.363877Z",
     "iopub.status.idle": "2021-05-02T20:56:01.386287Z",
     "shell.execute_reply": "2021-05-02T20:56:01.386803Z"
    },
    "papermill": {
     "duration": 0.083549,
     "end_time": "2021-05-02T20:56:01.386971",
     "exception": false,
     "start_time": "2021-05-02T20:56:01.303422",
     "status": "completed"
    },
    "tags": []
   },
   "outputs": [],
   "source": [
    "from sklearn.compose import ColumnTransformer\n",
    "\n",
    "num_attribs = list(titanic_num)\n",
    "cat_attribs = [\"Sex\", \"Pclass\", \"Embarked\"]\n",
    "\n",
    "pipeline_preparation = ColumnTransformer([\n",
    "    (\"num\", num_pipeline, num_attribs),\n",
    "    (\"cat\", OneHotEncoder(), cat_attribs)\n",
    "])\n",
    "\n",
    "titanic_transformed = pipeline_preparation.fit_transform(titanic)"
   ]
  },
  {
   "cell_type": "markdown",
   "id": "settled-syndication",
   "metadata": {
    "papermill": {
     "duration": 0.057926,
     "end_time": "2021-05-02T20:56:01.504665",
     "exception": false,
     "start_time": "2021-05-02T20:56:01.446739",
     "status": "completed"
    },
    "tags": []
   },
   "source": [
    "# Select and train a model"
   ]
  },
  {
   "cell_type": "markdown",
   "id": "precise-congo",
   "metadata": {
    "papermill": {
     "duration": 0.058024,
     "end_time": "2021-05-02T20:56:01.620985",
     "exception": false,
     "start_time": "2021-05-02T20:56:01.562961",
     "status": "completed"
    },
    "tags": []
   },
   "source": [
    "## SGD Classifier"
   ]
  },
  {
   "cell_type": "code",
   "execution_count": 25,
   "id": "entertaining-filing",
   "metadata": {
    "execution": {
     "iopub.execute_input": "2021-05-02T20:56:01.742460Z",
     "iopub.status.busy": "2021-05-02T20:56:01.741742Z",
     "iopub.status.idle": "2021-05-02T20:56:01.752508Z",
     "shell.execute_reply": "2021-05-02T20:56:01.753017Z"
    },
    "papermill": {
     "duration": 0.073962,
     "end_time": "2021-05-02T20:56:01.753200",
     "exception": false,
     "start_time": "2021-05-02T20:56:01.679238",
     "status": "completed"
    },
    "tags": []
   },
   "outputs": [
    {
     "data": {
      "text/plain": [
       "SGDClassifier()"
      ]
     },
     "execution_count": 25,
     "metadata": {},
     "output_type": "execute_result"
    }
   ],
   "source": [
    "from sklearn.linear_model import SGDClassifier\n",
    "\n",
    "sgd_clf = SGDClassifier()\n",
    "sgd_clf.fit(titanic_transformed, titanic_labels)"
   ]
  },
  {
   "cell_type": "code",
   "execution_count": 26,
   "id": "streaming-opportunity",
   "metadata": {
    "execution": {
     "iopub.execute_input": "2021-05-02T20:56:01.874987Z",
     "iopub.status.busy": "2021-05-02T20:56:01.874380Z",
     "iopub.status.idle": "2021-05-02T20:56:01.903749Z",
     "shell.execute_reply": "2021-05-02T20:56:01.904272Z"
    },
    "papermill": {
     "duration": 0.09243,
     "end_time": "2021-05-02T20:56:01.904441",
     "exception": false,
     "start_time": "2021-05-02T20:56:01.812011",
     "status": "completed"
    },
    "tags": []
   },
   "outputs": [],
   "source": [
    "from sklearn.model_selection import cross_val_score\n",
    "\n",
    "cross_val = cross_val_score(sgd_clf, titanic_transformed, titanic_labels, cv=5, scoring=\"accuracy\")"
   ]
  },
  {
   "cell_type": "code",
   "execution_count": 27,
   "id": "continuous-inflation",
   "metadata": {
    "execution": {
     "iopub.execute_input": "2021-05-02T20:56:02.027097Z",
     "iopub.status.busy": "2021-05-02T20:56:02.026468Z",
     "iopub.status.idle": "2021-05-02T20:56:02.031218Z",
     "shell.execute_reply": "2021-05-02T20:56:02.031805Z"
    },
    "papermill": {
     "duration": 0.06747,
     "end_time": "2021-05-02T20:56:02.031979",
     "exception": false,
     "start_time": "2021-05-02T20:56:01.964509",
     "status": "completed"
    },
    "tags": []
   },
   "outputs": [
    {
     "data": {
      "text/plain": [
       "0.8103320569957944"
      ]
     },
     "execution_count": 27,
     "metadata": {},
     "output_type": "execute_result"
    }
   ],
   "source": [
    "cross_val.mean()"
   ]
  },
  {
   "cell_type": "code",
   "execution_count": 28,
   "id": "careful-involvement",
   "metadata": {
    "execution": {
     "iopub.execute_input": "2021-05-02T20:56:02.155793Z",
     "iopub.status.busy": "2021-05-02T20:56:02.155142Z",
     "iopub.status.idle": "2021-05-02T20:56:02.183747Z",
     "shell.execute_reply": "2021-05-02T20:56:02.183099Z"
    },
    "papermill": {
     "duration": 0.091234,
     "end_time": "2021-05-02T20:56:02.183884",
     "exception": false,
     "start_time": "2021-05-02T20:56:02.092650",
     "status": "completed"
    },
    "tags": []
   },
   "outputs": [],
   "source": [
    "from sklearn.model_selection import cross_val_predict\n",
    "\n",
    "y_train_pred = cross_val_predict(sgd_clf, titanic_transformed, titanic_labels, cv=5)"
   ]
  },
  {
   "cell_type": "code",
   "execution_count": 29,
   "id": "declared-namibia",
   "metadata": {
    "execution": {
     "iopub.execute_input": "2021-05-02T20:56:02.308090Z",
     "iopub.status.busy": "2021-05-02T20:56:02.307498Z",
     "iopub.status.idle": "2021-05-02T20:56:02.313131Z",
     "shell.execute_reply": "2021-05-02T20:56:02.313747Z"
    },
    "papermill": {
     "duration": 0.070159,
     "end_time": "2021-05-02T20:56:02.313901",
     "exception": false,
     "start_time": "2021-05-02T20:56:02.243742",
     "status": "completed"
    },
    "tags": []
   },
   "outputs": [
    {
     "data": {
      "text/plain": [
       "array([[448, 101],\n",
       "       [110, 232]])"
      ]
     },
     "execution_count": 29,
     "metadata": {},
     "output_type": "execute_result"
    }
   ],
   "source": [
    "from sklearn.metrics import confusion_matrix\n",
    "\n",
    "confusion_matrix(titanic_labels, y_train_pred)"
   ]
  },
  {
   "cell_type": "code",
   "execution_count": 30,
   "id": "generic-campaign",
   "metadata": {
    "execution": {
     "iopub.execute_input": "2021-05-02T20:56:02.436317Z",
     "iopub.status.busy": "2021-05-02T20:56:02.435706Z",
     "iopub.status.idle": "2021-05-02T20:56:02.447367Z",
     "shell.execute_reply": "2021-05-02T20:56:02.446757Z"
    },
    "papermill": {
     "duration": 0.073656,
     "end_time": "2021-05-02T20:56:02.447495",
     "exception": false,
     "start_time": "2021-05-02T20:56:02.373839",
     "status": "completed"
    },
    "tags": []
   },
   "outputs": [
    {
     "name": "stdout",
     "output_type": "stream",
     "text": [
      "Precision:  0.6966966966966966\n",
      "Recall: 0.6783625730994152\n",
      "F1 Score: 0.6874074074074074\n"
     ]
    }
   ],
   "source": [
    "from sklearn.metrics import precision_score, recall_score\n",
    "from sklearn.metrics import f1_score\n",
    "\n",
    "print('Precision: ', precision_score(titanic_labels, y_train_pred))\n",
    "print('Recall:', recall_score(titanic_labels, y_train_pred))\n",
    "print('F1 Score:', f1_score(titanic_labels, y_train_pred))"
   ]
  },
  {
   "cell_type": "markdown",
   "id": "matched-vanilla",
   "metadata": {
    "papermill": {
     "duration": 0.059915,
     "end_time": "2021-05-02T20:56:02.568077",
     "exception": false,
     "start_time": "2021-05-02T20:56:02.508162",
     "status": "completed"
    },
    "tags": []
   },
   "source": [
    "## Logistic Regression"
   ]
  },
  {
   "cell_type": "code",
   "execution_count": 31,
   "id": "dynamic-compromise",
   "metadata": {
    "execution": {
     "iopub.execute_input": "2021-05-02T20:56:02.694599Z",
     "iopub.status.busy": "2021-05-02T20:56:02.693650Z",
     "iopub.status.idle": "2021-05-02T20:56:02.712479Z",
     "shell.execute_reply": "2021-05-02T20:56:02.712930Z"
    },
    "papermill": {
     "duration": 0.084591,
     "end_time": "2021-05-02T20:56:02.713112",
     "exception": false,
     "start_time": "2021-05-02T20:56:02.628521",
     "status": "completed"
    },
    "tags": []
   },
   "outputs": [
    {
     "data": {
      "text/plain": [
       "LogisticRegression()"
      ]
     },
     "execution_count": 31,
     "metadata": {},
     "output_type": "execute_result"
    }
   ],
   "source": [
    "from sklearn.linear_model import LogisticRegression\n",
    "\n",
    "log_reg = LogisticRegression()\n",
    "log_reg.fit(titanic_transformed, titanic_labels)"
   ]
  },
  {
   "cell_type": "code",
   "execution_count": 32,
   "id": "legal-republic",
   "metadata": {
    "execution": {
     "iopub.execute_input": "2021-05-02T20:56:02.840824Z",
     "iopub.status.busy": "2021-05-02T20:56:02.839962Z",
     "iopub.status.idle": "2021-05-02T20:56:02.900331Z",
     "shell.execute_reply": "2021-05-02T20:56:02.899661Z"
    },
    "papermill": {
     "duration": 0.126049,
     "end_time": "2021-05-02T20:56:02.900465",
     "exception": false,
     "start_time": "2021-05-02T20:56:02.774416",
     "status": "completed"
    },
    "tags": []
   },
   "outputs": [],
   "source": [
    "cross_val = cross_val_score(log_reg, titanic_transformed, titanic_labels, cv=5, scoring=\"accuracy\")"
   ]
  },
  {
   "cell_type": "code",
   "execution_count": 33,
   "id": "different-activity",
   "metadata": {
    "execution": {
     "iopub.execute_input": "2021-05-02T20:56:03.029717Z",
     "iopub.status.busy": "2021-05-02T20:56:03.028774Z",
     "iopub.status.idle": "2021-05-02T20:56:03.033293Z",
     "shell.execute_reply": "2021-05-02T20:56:03.032674Z"
    },
    "papermill": {
     "duration": 0.071112,
     "end_time": "2021-05-02T20:56:03.033429",
     "exception": false,
     "start_time": "2021-05-02T20:56:02.962317",
     "status": "completed"
    },
    "tags": []
   },
   "outputs": [
    {
     "data": {
      "text/plain": [
       "0.7890151277383718"
      ]
     },
     "execution_count": 33,
     "metadata": {},
     "output_type": "execute_result"
    }
   ],
   "source": [
    "cross_val.mean()"
   ]
  },
  {
   "cell_type": "code",
   "execution_count": 34,
   "id": "terminal-incident",
   "metadata": {
    "execution": {
     "iopub.execute_input": "2021-05-02T20:56:03.162635Z",
     "iopub.status.busy": "2021-05-02T20:56:03.161991Z",
     "iopub.status.idle": "2021-05-02T20:56:03.219518Z",
     "shell.execute_reply": "2021-05-02T20:56:03.218926Z"
    },
    "papermill": {
     "duration": 0.124141,
     "end_time": "2021-05-02T20:56:03.219656",
     "exception": false,
     "start_time": "2021-05-02T20:56:03.095515",
     "status": "completed"
    },
    "tags": []
   },
   "outputs": [],
   "source": [
    "y_train_pred = cross_val_predict(log_reg, titanic_transformed, titanic_labels, cv=5)"
   ]
  },
  {
   "cell_type": "code",
   "execution_count": 35,
   "id": "scenic-indianapolis",
   "metadata": {
    "execution": {
     "iopub.execute_input": "2021-05-02T20:56:03.348454Z",
     "iopub.status.busy": "2021-05-02T20:56:03.347847Z",
     "iopub.status.idle": "2021-05-02T20:56:03.354032Z",
     "shell.execute_reply": "2021-05-02T20:56:03.354502Z"
    },
    "papermill": {
     "duration": 0.073686,
     "end_time": "2021-05-02T20:56:03.354665",
     "exception": false,
     "start_time": "2021-05-02T20:56:03.280979",
     "status": "completed"
    },
    "tags": []
   },
   "outputs": [
    {
     "data": {
      "text/plain": [
       "array([[465,  84],\n",
       "       [104, 238]])"
      ]
     },
     "execution_count": 35,
     "metadata": {},
     "output_type": "execute_result"
    }
   ],
   "source": [
    "confusion_matrix(titanic_labels, y_train_pred)"
   ]
  },
  {
   "cell_type": "code",
   "execution_count": 36,
   "id": "liked-bidding",
   "metadata": {
    "execution": {
     "iopub.execute_input": "2021-05-02T20:56:03.485943Z",
     "iopub.status.busy": "2021-05-02T20:56:03.484320Z",
     "iopub.status.idle": "2021-05-02T20:56:03.494945Z",
     "shell.execute_reply": "2021-05-02T20:56:03.495611Z"
    },
    "papermill": {
     "duration": 0.079064,
     "end_time": "2021-05-02T20:56:03.495830",
     "exception": false,
     "start_time": "2021-05-02T20:56:03.416766",
     "status": "completed"
    },
    "tags": []
   },
   "outputs": [
    {
     "name": "stdout",
     "output_type": "stream",
     "text": [
      "Precision:  0.7391304347826086\n",
      "Recall: 0.695906432748538\n",
      "F1 Score: 0.716867469879518\n"
     ]
    }
   ],
   "source": [
    "print('Precision: ', precision_score(titanic_labels, y_train_pred))\n",
    "print('Recall:', recall_score(titanic_labels, y_train_pred))\n",
    "print('F1 Score:', f1_score(titanic_labels, y_train_pred))"
   ]
  },
  {
   "cell_type": "markdown",
   "id": "neural-bones",
   "metadata": {
    "papermill": {
     "duration": 0.062617,
     "end_time": "2021-05-02T20:56:03.621733",
     "exception": false,
     "start_time": "2021-05-02T20:56:03.559116",
     "status": "completed"
    },
    "tags": []
   },
   "source": [
    "## kNN"
   ]
  },
  {
   "cell_type": "code",
   "execution_count": 37,
   "id": "conceptual-cleanup",
   "metadata": {
    "execution": {
     "iopub.execute_input": "2021-05-02T20:56:03.753928Z",
     "iopub.status.busy": "2021-05-02T20:56:03.751809Z",
     "iopub.status.idle": "2021-05-02T20:56:03.757357Z",
     "shell.execute_reply": "2021-05-02T20:56:03.756841Z"
    },
    "papermill": {
     "duration": 0.073218,
     "end_time": "2021-05-02T20:56:03.757489",
     "exception": false,
     "start_time": "2021-05-02T20:56:03.684271",
     "status": "completed"
    },
    "tags": []
   },
   "outputs": [
    {
     "data": {
      "text/plain": [
       "KNeighborsClassifier()"
      ]
     },
     "execution_count": 37,
     "metadata": {},
     "output_type": "execute_result"
    }
   ],
   "source": [
    "from sklearn.neighbors import KNeighborsClassifier\n",
    "\n",
    "knn_clf = KNeighborsClassifier()\n",
    "knn_clf.fit(titanic_transformed, titanic_labels)"
   ]
  },
  {
   "cell_type": "code",
   "execution_count": 38,
   "id": "advised-aaron",
   "metadata": {
    "execution": {
     "iopub.execute_input": "2021-05-02T20:56:03.889427Z",
     "iopub.status.busy": "2021-05-02T20:56:03.888701Z",
     "iopub.status.idle": "2021-05-02T20:56:03.947024Z",
     "shell.execute_reply": "2021-05-02T20:56:03.946519Z"
    },
    "papermill": {
     "duration": 0.126178,
     "end_time": "2021-05-02T20:56:03.947158",
     "exception": false,
     "start_time": "2021-05-02T20:56:03.820980",
     "status": "completed"
    },
    "tags": []
   },
   "outputs": [],
   "source": [
    "cross_val = cross_val_score(knn_clf, titanic_transformed, titanic_labels, cv=5, scoring=\"accuracy\")"
   ]
  },
  {
   "cell_type": "code",
   "execution_count": 39,
   "id": "taken-villa",
   "metadata": {
    "execution": {
     "iopub.execute_input": "2021-05-02T20:56:04.079161Z",
     "iopub.status.busy": "2021-05-02T20:56:04.078574Z",
     "iopub.status.idle": "2021-05-02T20:56:04.083096Z",
     "shell.execute_reply": "2021-05-02T20:56:04.082615Z"
    },
    "papermill": {
     "duration": 0.072161,
     "end_time": "2021-05-02T20:56:04.083241",
     "exception": false,
     "start_time": "2021-05-02T20:56:04.011080",
     "status": "completed"
    },
    "tags": []
   },
   "outputs": [
    {
     "data": {
      "text/plain": [
       "0.8036218693114054"
      ]
     },
     "execution_count": 39,
     "metadata": {},
     "output_type": "execute_result"
    }
   ],
   "source": [
    "cross_val.mean()"
   ]
  },
  {
   "cell_type": "code",
   "execution_count": 40,
   "id": "quarterly-convention",
   "metadata": {
    "execution": {
     "iopub.execute_input": "2021-05-02T20:56:04.216449Z",
     "iopub.status.busy": "2021-05-02T20:56:04.215811Z",
     "iopub.status.idle": "2021-05-02T20:56:04.270772Z",
     "shell.execute_reply": "2021-05-02T20:56:04.270146Z"
    },
    "papermill": {
     "duration": 0.12415,
     "end_time": "2021-05-02T20:56:04.270917",
     "exception": false,
     "start_time": "2021-05-02T20:56:04.146767",
     "status": "completed"
    },
    "tags": []
   },
   "outputs": [],
   "source": [
    "y_train_pred = cross_val_predict(knn_clf, titanic_transformed, titanic_labels, cv=5)"
   ]
  },
  {
   "cell_type": "code",
   "execution_count": 41,
   "id": "welsh-climate",
   "metadata": {
    "execution": {
     "iopub.execute_input": "2021-05-02T20:56:04.402896Z",
     "iopub.status.busy": "2021-05-02T20:56:04.402298Z",
     "iopub.status.idle": "2021-05-02T20:56:04.408578Z",
     "shell.execute_reply": "2021-05-02T20:56:04.409054Z"
    },
    "papermill": {
     "duration": 0.074864,
     "end_time": "2021-05-02T20:56:04.409228",
     "exception": false,
     "start_time": "2021-05-02T20:56:04.334364",
     "status": "completed"
    },
    "tags": []
   },
   "outputs": [
    {
     "data": {
      "text/plain": [
       "array([[475,  74],\n",
       "       [101, 241]])"
      ]
     },
     "execution_count": 41,
     "metadata": {},
     "output_type": "execute_result"
    }
   ],
   "source": [
    "confusion_matrix(titanic_labels, y_train_pred)"
   ]
  },
  {
   "cell_type": "code",
   "execution_count": 42,
   "id": "nuclear-hunger",
   "metadata": {
    "execution": {
     "iopub.execute_input": "2021-05-02T20:56:04.542901Z",
     "iopub.status.busy": "2021-05-02T20:56:04.542322Z",
     "iopub.status.idle": "2021-05-02T20:56:04.551815Z",
     "shell.execute_reply": "2021-05-02T20:56:04.552384Z"
    },
    "papermill": {
     "duration": 0.079056,
     "end_time": "2021-05-02T20:56:04.552553",
     "exception": false,
     "start_time": "2021-05-02T20:56:04.473497",
     "status": "completed"
    },
    "tags": []
   },
   "outputs": [
    {
     "name": "stdout",
     "output_type": "stream",
     "text": [
      "Precision:  0.765079365079365\n",
      "Recall: 0.7046783625730995\n",
      "F1 Score: 0.7336377473363775\n"
     ]
    }
   ],
   "source": [
    "print('Precision: ', precision_score(titanic_labels, y_train_pred))\n",
    "print('Recall:', recall_score(titanic_labels, y_train_pred))\n",
    "print('F1 Score:', f1_score(titanic_labels, y_train_pred))"
   ]
  },
  {
   "cell_type": "markdown",
   "id": "several-buying",
   "metadata": {
    "papermill": {
     "duration": 0.064106,
     "end_time": "2021-05-02T20:56:04.681012",
     "exception": false,
     "start_time": "2021-05-02T20:56:04.616906",
     "status": "completed"
    },
    "tags": []
   },
   "source": [
    "## SVM Classifier"
   ]
  },
  {
   "cell_type": "code",
   "execution_count": 43,
   "id": "accomplished-deviation",
   "metadata": {
    "execution": {
     "iopub.execute_input": "2021-05-02T20:56:04.816056Z",
     "iopub.status.busy": "2021-05-02T20:56:04.815443Z",
     "iopub.status.idle": "2021-05-02T20:56:04.850373Z",
     "shell.execute_reply": "2021-05-02T20:56:04.849802Z"
    },
    "papermill": {
     "duration": 0.104439,
     "end_time": "2021-05-02T20:56:04.850513",
     "exception": false,
     "start_time": "2021-05-02T20:56:04.746074",
     "status": "completed"
    },
    "tags": []
   },
   "outputs": [
    {
     "data": {
      "text/plain": [
       "SVC(gamma='auto')"
      ]
     },
     "execution_count": 43,
     "metadata": {},
     "output_type": "execute_result"
    }
   ],
   "source": [
    "from sklearn.svm import SVC\n",
    "\n",
    "svm_clf = SVC(gamma=\"auto\")\n",
    "svm_clf.fit(titanic_transformed, titanic_labels)"
   ]
  },
  {
   "cell_type": "code",
   "execution_count": 44,
   "id": "relative-partition",
   "metadata": {
    "execution": {
     "iopub.execute_input": "2021-05-02T20:56:04.987246Z",
     "iopub.status.busy": "2021-05-02T20:56:04.986266Z",
     "iopub.status.idle": "2021-05-02T20:56:05.113240Z",
     "shell.execute_reply": "2021-05-02T20:56:05.112568Z"
    },
    "papermill": {
     "duration": 0.197373,
     "end_time": "2021-05-02T20:56:05.113373",
     "exception": false,
     "start_time": "2021-05-02T20:56:04.916000",
     "status": "completed"
    },
    "tags": []
   },
   "outputs": [],
   "source": [
    "cross_val = cross_val_score(svm_clf, titanic_transformed, titanic_labels, cv=5, scoring=\"accuracy\")"
   ]
  },
  {
   "cell_type": "code",
   "execution_count": 45,
   "id": "answering-maria",
   "metadata": {
    "execution": {
     "iopub.execute_input": "2021-05-02T20:56:05.254136Z",
     "iopub.status.busy": "2021-05-02T20:56:05.253230Z",
     "iopub.status.idle": "2021-05-02T20:56:05.256751Z",
     "shell.execute_reply": "2021-05-02T20:56:05.257250Z"
    },
    "papermill": {
     "duration": 0.0788,
     "end_time": "2021-05-02T20:56:05.257413",
     "exception": false,
     "start_time": "2021-05-02T20:56:05.178613",
     "status": "completed"
    },
    "tags": []
   },
   "outputs": [
    {
     "data": {
      "text/plain": [
       "0.7878475927437072"
      ]
     },
     "execution_count": 45,
     "metadata": {},
     "output_type": "execute_result"
    }
   ],
   "source": [
    "cross_val.mean()"
   ]
  },
  {
   "cell_type": "code",
   "execution_count": 46,
   "id": "burning-leave",
   "metadata": {
    "execution": {
     "iopub.execute_input": "2021-05-02T20:56:05.394820Z",
     "iopub.status.busy": "2021-05-02T20:56:05.393881Z",
     "iopub.status.idle": "2021-05-02T20:56:05.516702Z",
     "shell.execute_reply": "2021-05-02T20:56:05.517195Z"
    },
    "papermill": {
     "duration": 0.194256,
     "end_time": "2021-05-02T20:56:05.517376",
     "exception": false,
     "start_time": "2021-05-02T20:56:05.323120",
     "status": "completed"
    },
    "tags": []
   },
   "outputs": [],
   "source": [
    "y_train_pred = cross_val_predict(svm_clf, titanic_transformed, titanic_labels, cv=5)"
   ]
  },
  {
   "cell_type": "code",
   "execution_count": 47,
   "id": "invisible-marijuana",
   "metadata": {
    "execution": {
     "iopub.execute_input": "2021-05-02T20:56:05.652961Z",
     "iopub.status.busy": "2021-05-02T20:56:05.652016Z",
     "iopub.status.idle": "2021-05-02T20:56:05.659562Z",
     "shell.execute_reply": "2021-05-02T20:56:05.660032Z"
    },
    "papermill": {
     "duration": 0.076742,
     "end_time": "2021-05-02T20:56:05.660211",
     "exception": false,
     "start_time": "2021-05-02T20:56:05.583469",
     "status": "completed"
    },
    "tags": []
   },
   "outputs": [
    {
     "data": {
      "text/plain": [
       "array([[481,  68],\n",
       "       [121, 221]])"
      ]
     },
     "execution_count": 47,
     "metadata": {},
     "output_type": "execute_result"
    }
   ],
   "source": [
    "confusion_matrix(titanic_labels, y_train_pred)"
   ]
  },
  {
   "cell_type": "code",
   "execution_count": 48,
   "id": "outstanding-young",
   "metadata": {
    "execution": {
     "iopub.execute_input": "2021-05-02T20:56:05.797592Z",
     "iopub.status.busy": "2021-05-02T20:56:05.796603Z",
     "iopub.status.idle": "2021-05-02T20:56:05.808900Z",
     "shell.execute_reply": "2021-05-02T20:56:05.808261Z"
    },
    "papermill": {
     "duration": 0.082449,
     "end_time": "2021-05-02T20:56:05.809034",
     "exception": false,
     "start_time": "2021-05-02T20:56:05.726585",
     "status": "completed"
    },
    "tags": []
   },
   "outputs": [
    {
     "name": "stdout",
     "output_type": "stream",
     "text": [
      "Precision:  0.7647058823529411\n",
      "Recall: 0.6461988304093568\n",
      "F1 Score: 0.7004754358161648\n"
     ]
    }
   ],
   "source": [
    "print('Precision: ', precision_score(titanic_labels, y_train_pred))\n",
    "print('Recall:', recall_score(titanic_labels, y_train_pred))\n",
    "print('F1 Score:', f1_score(titanic_labels, y_train_pred))"
   ]
  },
  {
   "cell_type": "markdown",
   "id": "blank-suspension",
   "metadata": {
    "papermill": {
     "duration": 0.066228,
     "end_time": "2021-05-02T20:56:05.943574",
     "exception": false,
     "start_time": "2021-05-02T20:56:05.877346",
     "status": "completed"
    },
    "tags": []
   },
   "source": [
    "## Random Forest"
   ]
  },
  {
   "cell_type": "code",
   "execution_count": 49,
   "id": "minute-system",
   "metadata": {
    "execution": {
     "iopub.execute_input": "2021-05-02T20:56:06.085155Z",
     "iopub.status.busy": "2021-05-02T20:56:06.084399Z",
     "iopub.status.idle": "2021-05-02T20:56:06.363153Z",
     "shell.execute_reply": "2021-05-02T20:56:06.362570Z"
    },
    "papermill": {
     "duration": 0.350519,
     "end_time": "2021-05-02T20:56:06.363307",
     "exception": false,
     "start_time": "2021-05-02T20:56:06.012788",
     "status": "completed"
    },
    "tags": []
   },
   "outputs": [
    {
     "data": {
      "text/plain": [
       "RandomForestClassifier()"
      ]
     },
     "execution_count": 49,
     "metadata": {},
     "output_type": "execute_result"
    }
   ],
   "source": [
    "from sklearn.ensemble import RandomForestClassifier\n",
    "\n",
    "rf_clf = RandomForestClassifier()\n",
    "rf_clf.fit(titanic_transformed, titanic_labels)"
   ]
  },
  {
   "cell_type": "code",
   "execution_count": 50,
   "id": "nasty-bernard",
   "metadata": {
    "execution": {
     "iopub.execute_input": "2021-05-02T20:56:06.501310Z",
     "iopub.status.busy": "2021-05-02T20:56:06.500613Z",
     "iopub.status.idle": "2021-05-02T20:56:07.615095Z",
     "shell.execute_reply": "2021-05-02T20:56:07.615634Z"
    },
    "papermill": {
     "duration": 1.184832,
     "end_time": "2021-05-02T20:56:07.615798",
     "exception": false,
     "start_time": "2021-05-02T20:56:06.430966",
     "status": "completed"
    },
    "tags": []
   },
   "outputs": [],
   "source": [
    "cross_val = cross_val_score(rf_clf, titanic_transformed, titanic_labels, cv=5, scoring=\"accuracy\")"
   ]
  },
  {
   "cell_type": "code",
   "execution_count": 51,
   "id": "balanced-eligibility",
   "metadata": {
    "execution": {
     "iopub.execute_input": "2021-05-02T20:56:07.754489Z",
     "iopub.status.busy": "2021-05-02T20:56:07.753827Z",
     "iopub.status.idle": "2021-05-02T20:56:07.758441Z",
     "shell.execute_reply": "2021-05-02T20:56:07.758937Z"
    },
    "papermill": {
     "duration": 0.075552,
     "end_time": "2021-05-02T20:56:07.759103",
     "exception": false,
     "start_time": "2021-05-02T20:56:07.683551",
     "status": "completed"
    },
    "tags": []
   },
   "outputs": [
    {
     "data": {
      "text/plain": [
       "0.804758018956751"
      ]
     },
     "execution_count": 51,
     "metadata": {},
     "output_type": "execute_result"
    }
   ],
   "source": [
    "cross_val.mean()"
   ]
  },
  {
   "cell_type": "code",
   "execution_count": 52,
   "id": "suitable-consensus",
   "metadata": {
    "execution": {
     "iopub.execute_input": "2021-05-02T20:56:07.898241Z",
     "iopub.status.busy": "2021-05-02T20:56:07.897626Z",
     "iopub.status.idle": "2021-05-02T20:56:09.034918Z",
     "shell.execute_reply": "2021-05-02T20:56:09.035446Z"
    },
    "papermill": {
     "duration": 1.20867,
     "end_time": "2021-05-02T20:56:09.035617",
     "exception": false,
     "start_time": "2021-05-02T20:56:07.826947",
     "status": "completed"
    },
    "tags": []
   },
   "outputs": [],
   "source": [
    "y_train_pred = cross_val_predict(rf_clf, titanic_transformed, titanic_labels, cv=5)"
   ]
  },
  {
   "cell_type": "code",
   "execution_count": 53,
   "id": "victorian-jungle",
   "metadata": {
    "execution": {
     "iopub.execute_input": "2021-05-02T20:56:09.175189Z",
     "iopub.status.busy": "2021-05-02T20:56:09.174586Z",
     "iopub.status.idle": "2021-05-02T20:56:09.181749Z",
     "shell.execute_reply": "2021-05-02T20:56:09.182255Z"
    },
    "papermill": {
     "duration": 0.078681,
     "end_time": "2021-05-02T20:56:09.182415",
     "exception": false,
     "start_time": "2021-05-02T20:56:09.103734",
     "status": "completed"
    },
    "tags": []
   },
   "outputs": [
    {
     "data": {
      "text/plain": [
       "array([[475,  74],\n",
       "       [100, 242]])"
      ]
     },
     "execution_count": 53,
     "metadata": {},
     "output_type": "execute_result"
    }
   ],
   "source": [
    "confusion_matrix(titanic_labels, y_train_pred)"
   ]
  },
  {
   "cell_type": "code",
   "execution_count": 54,
   "id": "framed-voltage",
   "metadata": {
    "execution": {
     "iopub.execute_input": "2021-05-02T20:56:09.325326Z",
     "iopub.status.busy": "2021-05-02T20:56:09.324683Z",
     "iopub.status.idle": "2021-05-02T20:56:09.335206Z",
     "shell.execute_reply": "2021-05-02T20:56:09.335682Z"
    },
    "papermill": {
     "duration": 0.084523,
     "end_time": "2021-05-02T20:56:09.335842",
     "exception": false,
     "start_time": "2021-05-02T20:56:09.251319",
     "status": "completed"
    },
    "tags": []
   },
   "outputs": [
    {
     "name": "stdout",
     "output_type": "stream",
     "text": [
      "Precision:  0.7658227848101266\n",
      "Recall: 0.7076023391812866\n",
      "F1 Score: 0.7355623100303952\n"
     ]
    }
   ],
   "source": [
    "print('Precision: ', precision_score(titanic_labels, y_train_pred))\n",
    "print('Recall:', recall_score(titanic_labels, y_train_pred))\n",
    "print('F1 Score:', f1_score(titanic_labels, y_train_pred))"
   ]
  },
  {
   "cell_type": "markdown",
   "id": "found-devon",
   "metadata": {
    "papermill": {
     "duration": 0.068589,
     "end_time": "2021-05-02T20:56:09.473434",
     "exception": false,
     "start_time": "2021-05-02T20:56:09.404845",
     "status": "completed"
    },
    "tags": []
   },
   "source": [
    "Best model seems to be kNN or RandomForest"
   ]
  },
  {
   "cell_type": "markdown",
   "id": "combined-medium",
   "metadata": {
    "papermill": {
     "duration": 0.068783,
     "end_time": "2021-05-02T20:56:09.611066",
     "exception": false,
     "start_time": "2021-05-02T20:56:09.542283",
     "status": "completed"
    },
    "tags": []
   },
   "source": [
    "# Finetune your model"
   ]
  },
  {
   "cell_type": "markdown",
   "id": "about-choir",
   "metadata": {
    "papermill": {
     "duration": 0.068782,
     "end_time": "2021-05-02T20:56:09.748617",
     "exception": false,
     "start_time": "2021-05-02T20:56:09.679835",
     "status": "completed"
    },
    "tags": []
   },
   "source": [
    "Finetuning : kNN"
   ]
  },
  {
   "cell_type": "code",
   "execution_count": 55,
   "id": "pleased-moses",
   "metadata": {
    "execution": {
     "iopub.execute_input": "2021-05-02T20:56:09.893806Z",
     "iopub.status.busy": "2021-05-02T20:56:09.893149Z",
     "iopub.status.idle": "2021-05-02T20:56:10.135972Z",
     "shell.execute_reply": "2021-05-02T20:56:10.136510Z"
    },
    "papermill": {
     "duration": 0.318903,
     "end_time": "2021-05-02T20:56:10.136673",
     "exception": false,
     "start_time": "2021-05-02T20:56:09.817770",
     "status": "completed"
    },
    "tags": []
   },
   "outputs": [
    {
     "name": "stdout",
     "output_type": "stream",
     "text": [
      "Fitting 5 folds for each of 6 candidates, totalling 30 fits\n",
      "[CV 1/5] END .................n_neighbors=3, weights=uniform; total time=   0.0s\n",
      "[CV 2/5] END .................n_neighbors=3, weights=uniform; total time=   0.0s\n",
      "[CV 3/5] END .................n_neighbors=3, weights=uniform; total time=   0.0s\n",
      "[CV 4/5] END .................n_neighbors=3, weights=uniform; total time=   0.0s\n",
      "[CV 5/5] END .................n_neighbors=3, weights=uniform; total time=   0.0s\n",
      "[CV 1/5] END ................n_neighbors=3, weights=distance; total time=   0.0s\n",
      "[CV 2/5] END ................n_neighbors=3, weights=distance; total time=   0.0s\n",
      "[CV 3/5] END ................n_neighbors=3, weights=distance; total time=   0.0s\n",
      "[CV 4/5] END ................n_neighbors=3, weights=distance; total time=   0.0s\n",
      "[CV 5/5] END ................n_neighbors=3, weights=distance; total time=   0.0s\n",
      "[CV 1/5] END .................n_neighbors=4, weights=uniform; total time=   0.0s\n",
      "[CV 2/5] END .................n_neighbors=4, weights=uniform; total time=   0.0s\n",
      "[CV 3/5] END .................n_neighbors=4, weights=uniform; total time=   0.0s\n",
      "[CV 4/5] END .................n_neighbors=4, weights=uniform; total time=   0.0s\n",
      "[CV 5/5] END .................n_neighbors=4, weights=uniform; total time=   0.0s\n",
      "[CV 1/5] END ................n_neighbors=4, weights=distance; total time=   0.0s\n",
      "[CV 2/5] END ................n_neighbors=4, weights=distance; total time=   0.0s\n",
      "[CV 3/5] END ................n_neighbors=4, weights=distance; total time=   0.0s\n",
      "[CV 4/5] END ................n_neighbors=4, weights=distance; total time=   0.0s\n",
      "[CV 5/5] END ................n_neighbors=4, weights=distance; total time=   0.0s\n",
      "[CV 1/5] END .................n_neighbors=5, weights=uniform; total time=   0.0s\n",
      "[CV 2/5] END .................n_neighbors=5, weights=uniform; total time=   0.0s\n",
      "[CV 3/5] END .................n_neighbors=5, weights=uniform; total time=   0.0s\n",
      "[CV 4/5] END .................n_neighbors=5, weights=uniform; total time=   0.0s\n",
      "[CV 5/5] END .................n_neighbors=5, weights=uniform; total time=   0.0s\n",
      "[CV 1/5] END ................n_neighbors=5, weights=distance; total time=   0.0s\n",
      "[CV 2/5] END ................n_neighbors=5, weights=distance; total time=   0.0s\n",
      "[CV 3/5] END ................n_neighbors=5, weights=distance; total time=   0.0s\n",
      "[CV 4/5] END ................n_neighbors=5, weights=distance; total time=   0.0s\n",
      "[CV 5/5] END ................n_neighbors=5, weights=distance; total time=   0.0s\n"
     ]
    },
    {
     "data": {
      "text/plain": [
       "GridSearchCV(cv=5, estimator=KNeighborsClassifier(),\n",
       "             param_grid=[{'n_neighbors': [3, 4, 5],\n",
       "                          'weights': ['uniform', 'distance']}],\n",
       "             verbose=3)"
      ]
     },
     "execution_count": 55,
     "metadata": {},
     "output_type": "execute_result"
    }
   ],
   "source": [
    "from sklearn.model_selection import GridSearchCV\n",
    "\n",
    "params_grid = [{'weights': [\"uniform\", \"distance\"], \n",
    "                'n_neighbors': [3, 4, 5]}]\n",
    "\n",
    "knn_clf = KNeighborsClassifier()\n",
    "\n",
    "grid_search = GridSearchCV(knn_clf, params_grid, cv=5, verbose=3)\n",
    "grid_search.fit(titanic_transformed, titanic_labels)"
   ]
  },
  {
   "cell_type": "code",
   "execution_count": 56,
   "id": "continuous-asset",
   "metadata": {
    "execution": {
     "iopub.execute_input": "2021-05-02T20:56:10.281560Z",
     "iopub.status.busy": "2021-05-02T20:56:10.280915Z",
     "iopub.status.idle": "2021-05-02T20:56:10.285101Z",
     "shell.execute_reply": "2021-05-02T20:56:10.284525Z"
    },
    "papermill": {
     "duration": 0.07874,
     "end_time": "2021-05-02T20:56:10.285265",
     "exception": false,
     "start_time": "2021-05-02T20:56:10.206525",
     "status": "completed"
    },
    "tags": []
   },
   "outputs": [
    {
     "data": {
      "text/plain": [
       "{'n_neighbors': 5, 'weights': 'uniform'}"
      ]
     },
     "execution_count": 56,
     "metadata": {},
     "output_type": "execute_result"
    }
   ],
   "source": [
    "grid_search.best_params_"
   ]
  },
  {
   "cell_type": "code",
   "execution_count": 57,
   "id": "greater-basketball",
   "metadata": {
    "execution": {
     "iopub.execute_input": "2021-05-02T20:56:10.433771Z",
     "iopub.status.busy": "2021-05-02T20:56:10.433126Z",
     "iopub.status.idle": "2021-05-02T20:56:10.436041Z",
     "shell.execute_reply": "2021-05-02T20:56:10.436576Z"
    },
    "papermill": {
     "duration": 0.080107,
     "end_time": "2021-05-02T20:56:10.436734",
     "exception": false,
     "start_time": "2021-05-02T20:56:10.356627",
     "status": "completed"
    },
    "tags": []
   },
   "outputs": [
    {
     "data": {
      "text/plain": [
       "0.8036218693114054"
      ]
     },
     "execution_count": 57,
     "metadata": {},
     "output_type": "execute_result"
    }
   ],
   "source": [
    "grid_search.best_score_"
   ]
  },
  {
   "cell_type": "code",
   "execution_count": 58,
   "id": "sound-wisdom",
   "metadata": {
    "execution": {
     "iopub.execute_input": "2021-05-02T20:56:10.582066Z",
     "iopub.status.busy": "2021-05-02T20:56:10.581487Z",
     "iopub.status.idle": "2021-05-02T20:56:10.626107Z",
     "shell.execute_reply": "2021-05-02T20:56:10.625587Z"
    },
    "papermill": {
     "duration": 0.118123,
     "end_time": "2021-05-02T20:56:10.626272",
     "exception": false,
     "start_time": "2021-05-02T20:56:10.508149",
     "status": "completed"
    },
    "tags": []
   },
   "outputs": [
    {
     "data": {
      "text/plain": [
       "0.8518518518518519"
      ]
     },
     "execution_count": 58,
     "metadata": {},
     "output_type": "execute_result"
    }
   ],
   "source": [
    "from sklearn.metrics import accuracy_score\n",
    "\n",
    "y_pred = grid_search.predict(titanic_transformed)\n",
    "accuracy_score(titanic_labels, y_pred)"
   ]
  },
  {
   "cell_type": "code",
   "execution_count": 59,
   "id": "direct-melbourne",
   "metadata": {
    "execution": {
     "iopub.execute_input": "2021-05-02T20:56:10.780127Z",
     "iopub.status.busy": "2021-05-02T20:56:10.779422Z",
     "iopub.status.idle": "2021-05-02T20:56:10.808538Z",
     "shell.execute_reply": "2021-05-02T20:56:10.809064Z"
    },
    "papermill": {
     "duration": 0.111289,
     "end_time": "2021-05-02T20:56:10.809248",
     "exception": false,
     "start_time": "2021-05-02T20:56:10.697959",
     "status": "completed"
    },
    "tags": []
   },
   "outputs": [
    {
     "data": {
      "text/plain": [
       "Pipeline(steps=[('preparation',\n",
       "                 ColumnTransformer(transformers=[('num',\n",
       "                                                  Pipeline(steps=[('imputer',\n",
       "                                                                   SimpleImputer(strategy='median')),\n",
       "                                                                  ('scaler',\n",
       "                                                                   RobustScaler())]),\n",
       "                                                  ['Age']),\n",
       "                                                 ('cat', OneHotEncoder(),\n",
       "                                                  ['Sex', 'Pclass',\n",
       "                                                   'Embarked'])])),\n",
       "                ('knn', KNeighborsClassifier())])"
      ]
     },
     "execution_count": 59,
     "metadata": {},
     "output_type": "execute_result"
    }
   ],
   "source": [
    "full_pipeline_with_predictor = Pipeline([\n",
    "        (\"preparation\", pipeline_preparation),\n",
    "        (\"knn\", KNeighborsClassifier(n_neighbors = 5, weights = \"uniform\"))\n",
    "    ])\n",
    "\n",
    "full_pipeline_with_predictor.fit(titanic, titanic_labels)"
   ]
  },
  {
   "cell_type": "markdown",
   "id": "voluntary-bishop",
   "metadata": {
    "papermill": {
     "duration": 0.073047,
     "end_time": "2021-05-02T20:56:10.954467",
     "exception": false,
     "start_time": "2021-05-02T20:56:10.881420",
     "status": "completed"
    },
    "tags": []
   },
   "source": [
    "# Predictions"
   ]
  },
  {
   "cell_type": "code",
   "execution_count": 60,
   "id": "married-number",
   "metadata": {
    "execution": {
     "iopub.execute_input": "2021-05-02T20:56:11.106071Z",
     "iopub.status.busy": "2021-05-02T20:56:11.105468Z",
     "iopub.status.idle": "2021-05-02T20:56:11.120453Z",
     "shell.execute_reply": "2021-05-02T20:56:11.120929Z"
    },
    "papermill": {
     "duration": 0.091969,
     "end_time": "2021-05-02T20:56:11.121128",
     "exception": false,
     "start_time": "2021-05-02T20:56:11.029159",
     "status": "completed"
    },
    "tags": []
   },
   "outputs": [
    {
     "data": {
      "text/html": [
       "<div>\n",
       "<style scoped>\n",
       "    .dataframe tbody tr th:only-of-type {\n",
       "        vertical-align: middle;\n",
       "    }\n",
       "\n",
       "    .dataframe tbody tr th {\n",
       "        vertical-align: top;\n",
       "    }\n",
       "\n",
       "    .dataframe thead th {\n",
       "        text-align: right;\n",
       "    }\n",
       "</style>\n",
       "<table border=\"1\" class=\"dataframe\">\n",
       "  <thead>\n",
       "    <tr style=\"text-align: right;\">\n",
       "      <th></th>\n",
       "      <th>PassengerId</th>\n",
       "      <th>Pclass</th>\n",
       "      <th>Name</th>\n",
       "      <th>Sex</th>\n",
       "      <th>Age</th>\n",
       "      <th>SibSp</th>\n",
       "      <th>Parch</th>\n",
       "      <th>Ticket</th>\n",
       "      <th>Fare</th>\n",
       "      <th>Cabin</th>\n",
       "      <th>Embarked</th>\n",
       "    </tr>\n",
       "  </thead>\n",
       "  <tbody>\n",
       "    <tr>\n",
       "      <th>0</th>\n",
       "      <td>892</td>\n",
       "      <td>3</td>\n",
       "      <td>Kelly, Mr. James</td>\n",
       "      <td>male</td>\n",
       "      <td>34.5</td>\n",
       "      <td>0</td>\n",
       "      <td>0</td>\n",
       "      <td>330911</td>\n",
       "      <td>7.8292</td>\n",
       "      <td>NaN</td>\n",
       "      <td>Q</td>\n",
       "    </tr>\n",
       "    <tr>\n",
       "      <th>1</th>\n",
       "      <td>893</td>\n",
       "      <td>3</td>\n",
       "      <td>Wilkes, Mrs. James (Ellen Needs)</td>\n",
       "      <td>female</td>\n",
       "      <td>47.0</td>\n",
       "      <td>1</td>\n",
       "      <td>0</td>\n",
       "      <td>363272</td>\n",
       "      <td>7.0000</td>\n",
       "      <td>NaN</td>\n",
       "      <td>S</td>\n",
       "    </tr>\n",
       "    <tr>\n",
       "      <th>2</th>\n",
       "      <td>894</td>\n",
       "      <td>2</td>\n",
       "      <td>Myles, Mr. Thomas Francis</td>\n",
       "      <td>male</td>\n",
       "      <td>62.0</td>\n",
       "      <td>0</td>\n",
       "      <td>0</td>\n",
       "      <td>240276</td>\n",
       "      <td>9.6875</td>\n",
       "      <td>NaN</td>\n",
       "      <td>Q</td>\n",
       "    </tr>\n",
       "    <tr>\n",
       "      <th>3</th>\n",
       "      <td>895</td>\n",
       "      <td>3</td>\n",
       "      <td>Wirz, Mr. Albert</td>\n",
       "      <td>male</td>\n",
       "      <td>27.0</td>\n",
       "      <td>0</td>\n",
       "      <td>0</td>\n",
       "      <td>315154</td>\n",
       "      <td>8.6625</td>\n",
       "      <td>NaN</td>\n",
       "      <td>S</td>\n",
       "    </tr>\n",
       "    <tr>\n",
       "      <th>4</th>\n",
       "      <td>896</td>\n",
       "      <td>3</td>\n",
       "      <td>Hirvonen, Mrs. Alexander (Helga E Lindqvist)</td>\n",
       "      <td>female</td>\n",
       "      <td>22.0</td>\n",
       "      <td>1</td>\n",
       "      <td>1</td>\n",
       "      <td>3101298</td>\n",
       "      <td>12.2875</td>\n",
       "      <td>NaN</td>\n",
       "      <td>S</td>\n",
       "    </tr>\n",
       "  </tbody>\n",
       "</table>\n",
       "</div>"
      ],
      "text/plain": [
       "   PassengerId  Pclass                                          Name     Sex  \\\n",
       "0          892       3                              Kelly, Mr. James    male   \n",
       "1          893       3              Wilkes, Mrs. James (Ellen Needs)  female   \n",
       "2          894       2                     Myles, Mr. Thomas Francis    male   \n",
       "3          895       3                              Wirz, Mr. Albert    male   \n",
       "4          896       3  Hirvonen, Mrs. Alexander (Helga E Lindqvist)  female   \n",
       "\n",
       "    Age  SibSp  Parch   Ticket     Fare Cabin Embarked  \n",
       "0  34.5      0      0   330911   7.8292   NaN        Q  \n",
       "1  47.0      1      0   363272   7.0000   NaN        S  \n",
       "2  62.0      0      0   240276   9.6875   NaN        Q  \n",
       "3  27.0      0      0   315154   8.6625   NaN        S  \n",
       "4  22.0      1      1  3101298  12.2875   NaN        S  "
      ]
     },
     "execution_count": 60,
     "metadata": {},
     "output_type": "execute_result"
    }
   ],
   "source": [
    "test_data.head()"
   ]
  },
  {
   "cell_type": "code",
   "execution_count": 61,
   "id": "reasonable-japan",
   "metadata": {
    "execution": {
     "iopub.execute_input": "2021-05-02T20:56:11.269279Z",
     "iopub.status.busy": "2021-05-02T20:56:11.268655Z",
     "iopub.status.idle": "2021-05-02T20:56:11.298186Z",
     "shell.execute_reply": "2021-05-02T20:56:11.298671Z"
    },
    "papermill": {
     "duration": 0.105138,
     "end_time": "2021-05-02T20:56:11.298838",
     "exception": false,
     "start_time": "2021-05-02T20:56:11.193700",
     "status": "completed"
    },
    "tags": []
   },
   "outputs": [],
   "source": [
    "test_data.drop(['PassengerId', \"Name\", \"SibSp\", \"Parch\", \"Ticket\", \"Fare\", \"Cabin\"], axis=1, inplace=True)\n",
    "predict = full_pipeline_with_predictor.predict(test_data)"
   ]
  },
  {
   "cell_type": "code",
   "execution_count": 62,
   "id": "abroad-sandwich",
   "metadata": {
    "execution": {
     "iopub.execute_input": "2021-05-02T20:56:11.449047Z",
     "iopub.status.busy": "2021-05-02T20:56:11.448448Z",
     "iopub.status.idle": "2021-05-02T20:56:11.454043Z",
     "shell.execute_reply": "2021-05-02T20:56:11.454575Z"
    },
    "papermill": {
     "duration": 0.082688,
     "end_time": "2021-05-02T20:56:11.454725",
     "exception": false,
     "start_time": "2021-05-02T20:56:11.372037",
     "status": "completed"
    },
    "tags": []
   },
   "outputs": [
    {
     "data": {
      "text/plain": [
       "array([0, 0, 0, 1, 1, 0, 1, 0, 0, 0, 0, 0, 1, 0, 1, 1, 0, 1, 1, 0, 0, 0,\n",
       "       1, 0, 1, 0, 1, 0, 0, 0, 0, 0, 1, 0, 0, 0, 0, 0, 0, 0, 0, 0, 0, 1,\n",
       "       1, 0, 1, 0, 1, 1, 1, 0, 1, 1, 0, 0, 0, 0, 0, 1, 0, 0, 0, 1, 0, 1,\n",
       "       1, 0, 0, 1, 1, 0, 0, 0, 1, 1, 0, 1, 0, 1, 0, 0, 1, 0, 0, 0, 1, 0,\n",
       "       1, 1, 1, 0, 1, 0, 1, 0, 1, 0, 0, 0, 1, 0, 0, 0, 1, 0, 0, 0, 0, 0,\n",
       "       0, 1, 1, 1, 1, 0, 0, 0, 1, 1, 1, 0, 1, 0, 0, 1, 0, 1, 0, 0, 0, 0,\n",
       "       0, 0, 0, 0, 0, 0, 1, 0, 0, 1, 0, 0, 0, 0, 0, 0, 0, 0, 1, 0, 0, 1,\n",
       "       0, 0, 1, 1, 0, 1, 1, 0, 1, 0, 0, 1, 1, 0, 1, 1, 0, 0, 0, 0, 0, 1,\n",
       "       1, 0, 1, 1, 0, 1, 1, 0, 1, 0, 1, 0, 0, 0, 0, 0, 0, 0, 1, 0, 0, 0,\n",
       "       0, 0, 1, 0, 1, 1, 0, 0, 0, 0, 1, 0, 0, 0, 0, 1, 0, 0, 1, 0, 1, 0,\n",
       "       1, 0, 1, 0, 1, 0, 0, 1, 0, 0, 0, 1, 0, 0, 0, 0, 0, 1, 1, 1, 1, 1,\n",
       "       1, 0, 0, 0, 1, 0, 1, 0, 1, 0, 0, 0, 0, 0, 0, 0, 1, 0, 0, 0, 1, 0,\n",
       "       0, 0, 0, 0, 0, 0, 1, 0, 1, 1, 0, 1, 0, 0, 0, 0, 1, 0, 1, 1, 0, 0,\n",
       "       0, 1, 0, 0, 0, 1, 0, 0, 0, 0, 1, 0, 0, 0, 0, 0, 0, 0, 1, 1, 0, 0,\n",
       "       0, 0, 0, 1, 0, 0, 1, 1, 0, 0, 1, 0, 0, 0, 0, 1, 1, 0, 1, 1, 0, 0,\n",
       "       1, 0, 0, 0, 1, 0, 0, 0, 0, 0, 0, 0, 0, 1, 0, 0, 0, 0, 0, 1, 1, 0,\n",
       "       0, 0, 0, 1, 1, 0, 0, 0, 0, 1, 1, 1, 1, 0, 0, 1, 1, 0, 0, 1, 1, 0,\n",
       "       1, 1, 1, 0, 0, 0, 0, 0, 0, 0, 0, 1, 0, 0, 0, 0, 0, 1, 0, 0, 0, 1,\n",
       "       0, 1, 0, 0, 1, 0, 1, 0, 0, 0, 0, 0, 1, 0, 1, 1, 0, 0, 1, 0, 0, 0])"
      ]
     },
     "execution_count": 62,
     "metadata": {},
     "output_type": "execute_result"
    }
   ],
   "source": [
    "predict"
   ]
  }
 ],
 "metadata": {
  "kernelspec": {
   "display_name": "Python 3",
   "language": "python",
   "name": "python3"
  },
  "language_info": {
   "codemirror_mode": {
    "name": "ipython",
    "version": 3
   },
   "file_extension": ".py",
   "mimetype": "text/x-python",
   "name": "python",
   "nbconvert_exporter": "python",
   "pygments_lexer": "ipython3",
   "version": "3.7.10"
  },
  "papermill": {
   "default_parameters": {},
   "duration": 25.906899,
   "end_time": "2021-05-02T20:56:12.993928",
   "environment_variables": {},
   "exception": null,
   "input_path": "__notebook__.ipynb",
   "output_path": "__notebook__.ipynb",
   "parameters": {},
   "start_time": "2021-05-02T20:55:47.087029",
   "version": "2.3.3"
  }
 },
 "nbformat": 4,
 "nbformat_minor": 5
}