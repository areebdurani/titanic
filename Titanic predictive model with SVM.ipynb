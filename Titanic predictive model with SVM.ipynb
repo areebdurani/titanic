{
 "cells": [
  {
   "cell_type": "markdown",
   "id": "advanced-british",
   "metadata": {
    "papermill": {
     "duration": 0.029432,
     "end_time": "2021-05-02T18:42:55.553318",
     "exception": false,
     "start_time": "2021-05-02T18:42:55.523886",
     "status": "completed"
    },
    "tags": []
   },
   "source": [
    "# Titanic - Prediction using SVM-Classifier"
   ]
  },
  {
   "cell_type": "code",
   "execution_count": 1,
   "id": "weighted-crystal",
   "metadata": {
    "execution": {
     "iopub.execute_input": "2021-05-02T18:42:55.616555Z",
     "iopub.status.busy": "2021-05-02T18:42:55.614757Z",
     "iopub.status.idle": "2021-05-02T18:42:56.774021Z",
     "shell.execute_reply": "2021-05-02T18:42:56.773323Z"
    },
    "papermill": {
     "duration": 1.190808,
     "end_time": "2021-05-02T18:42:56.774244",
     "exception": false,
     "start_time": "2021-05-02T18:42:55.583436",
     "status": "completed"
    },
    "tags": []
   },
   "outputs": [],
   "source": [
    "# Import statements\n",
    "import pandas as pd\n",
    "import numpy as np\n",
    "from sklearn.model_selection import train_test_split\n",
    "from sklearn.preprocessing import LabelEncoder\n",
    "from sklearn.svm import SVC\n",
    "from sklearn import metrics"
   ]
  },
  {
   "cell_type": "code",
   "execution_count": 2,
   "id": "provincial-faculty",
   "metadata": {
    "execution": {
     "iopub.execute_input": "2021-05-02T18:42:56.822571Z",
     "iopub.status.busy": "2021-05-02T18:42:56.821762Z",
     "iopub.status.idle": "2021-05-02T18:42:56.848578Z",
     "shell.execute_reply": "2021-05-02T18:42:56.847970Z"
    },
    "papermill": {
     "duration": 0.052946,
     "end_time": "2021-05-02T18:42:56.848734",
     "exception": false,
     "start_time": "2021-05-02T18:42:56.795788",
     "status": "completed"
    },
    "tags": []
   },
   "outputs": [],
   "source": [
    "# Reading the training and testing datasets (given as .csv files)\n",
    "train = pd.read_csv('/kaggle/input/titanic/train.csv')\n",
    "test = pd.read_csv('/kaggle/input/titanic/test.csv')\n",
    "\n",
    "datasets = [train,test] # Making a list of datasets."
   ]
  },
  {
   "cell_type": "markdown",
   "id": "liquid-bruce",
   "metadata": {
    "papermill": {
     "duration": 0.020644,
     "end_time": "2021-05-02T18:42:56.890516",
     "exception": false,
     "start_time": "2021-05-02T18:42:56.869872",
     "status": "completed"
    },
    "tags": []
   },
   "source": [
    "Let's have a look at the datasets we are dealing with."
   ]
  },
  {
   "cell_type": "code",
   "execution_count": 3,
   "id": "attempted-rwanda",
   "metadata": {
    "execution": {
     "iopub.execute_input": "2021-05-02T18:42:56.946909Z",
     "iopub.status.busy": "2021-05-02T18:42:56.946249Z",
     "iopub.status.idle": "2021-05-02T18:42:56.975748Z",
     "shell.execute_reply": "2021-05-02T18:42:56.975172Z"
    },
    "papermill": {
     "duration": 0.064255,
     "end_time": "2021-05-02T18:42:56.975889",
     "exception": false,
     "start_time": "2021-05-02T18:42:56.911634",
     "status": "completed"
    },
    "tags": []
   },
   "outputs": [
    {
     "data": {
      "text/html": [
       "<div>\n",
       "<style scoped>\n",
       "    .dataframe tbody tr th:only-of-type {\n",
       "        vertical-align: middle;\n",
       "    }\n",
       "\n",
       "    .dataframe tbody tr th {\n",
       "        vertical-align: top;\n",
       "    }\n",
       "\n",
       "    .dataframe thead th {\n",
       "        text-align: right;\n",
       "    }\n",
       "</style>\n",
       "<table border=\"1\" class=\"dataframe\">\n",
       "  <thead>\n",
       "    <tr style=\"text-align: right;\">\n",
       "      <th></th>\n",
       "      <th>PassengerId</th>\n",
       "      <th>Survived</th>\n",
       "      <th>Pclass</th>\n",
       "      <th>Name</th>\n",
       "      <th>Sex</th>\n",
       "      <th>Age</th>\n",
       "      <th>SibSp</th>\n",
       "      <th>Parch</th>\n",
       "      <th>Ticket</th>\n",
       "      <th>Fare</th>\n",
       "      <th>Cabin</th>\n",
       "      <th>Embarked</th>\n",
       "    </tr>\n",
       "  </thead>\n",
       "  <tbody>\n",
       "    <tr>\n",
       "      <th>0</th>\n",
       "      <td>1</td>\n",
       "      <td>0</td>\n",
       "      <td>3</td>\n",
       "      <td>Braund, Mr. Owen Harris</td>\n",
       "      <td>male</td>\n",
       "      <td>22.0</td>\n",
       "      <td>1</td>\n",
       "      <td>0</td>\n",
       "      <td>A/5 21171</td>\n",
       "      <td>7.2500</td>\n",
       "      <td>NaN</td>\n",
       "      <td>S</td>\n",
       "    </tr>\n",
       "    <tr>\n",
       "      <th>1</th>\n",
       "      <td>2</td>\n",
       "      <td>1</td>\n",
       "      <td>1</td>\n",
       "      <td>Cumings, Mrs. John Bradley (Florence Briggs Th...</td>\n",
       "      <td>female</td>\n",
       "      <td>38.0</td>\n",
       "      <td>1</td>\n",
       "      <td>0</td>\n",
       "      <td>PC 17599</td>\n",
       "      <td>71.2833</td>\n",
       "      <td>C85</td>\n",
       "      <td>C</td>\n",
       "    </tr>\n",
       "    <tr>\n",
       "      <th>2</th>\n",
       "      <td>3</td>\n",
       "      <td>1</td>\n",
       "      <td>3</td>\n",
       "      <td>Heikkinen, Miss. Laina</td>\n",
       "      <td>female</td>\n",
       "      <td>26.0</td>\n",
       "      <td>0</td>\n",
       "      <td>0</td>\n",
       "      <td>STON/O2. 3101282</td>\n",
       "      <td>7.9250</td>\n",
       "      <td>NaN</td>\n",
       "      <td>S</td>\n",
       "    </tr>\n",
       "    <tr>\n",
       "      <th>3</th>\n",
       "      <td>4</td>\n",
       "      <td>1</td>\n",
       "      <td>1</td>\n",
       "      <td>Futrelle, Mrs. Jacques Heath (Lily May Peel)</td>\n",
       "      <td>female</td>\n",
       "      <td>35.0</td>\n",
       "      <td>1</td>\n",
       "      <td>0</td>\n",
       "      <td>113803</td>\n",
       "      <td>53.1000</td>\n",
       "      <td>C123</td>\n",
       "      <td>S</td>\n",
       "    </tr>\n",
       "    <tr>\n",
       "      <th>4</th>\n",
       "      <td>5</td>\n",
       "      <td>0</td>\n",
       "      <td>3</td>\n",
       "      <td>Allen, Mr. William Henry</td>\n",
       "      <td>male</td>\n",
       "      <td>35.0</td>\n",
       "      <td>0</td>\n",
       "      <td>0</td>\n",
       "      <td>373450</td>\n",
       "      <td>8.0500</td>\n",
       "      <td>NaN</td>\n",
       "      <td>S</td>\n",
       "    </tr>\n",
       "    <tr>\n",
       "      <th>5</th>\n",
       "      <td>6</td>\n",
       "      <td>0</td>\n",
       "      <td>3</td>\n",
       "      <td>Moran, Mr. James</td>\n",
       "      <td>male</td>\n",
       "      <td>NaN</td>\n",
       "      <td>0</td>\n",
       "      <td>0</td>\n",
       "      <td>330877</td>\n",
       "      <td>8.4583</td>\n",
       "      <td>NaN</td>\n",
       "      <td>Q</td>\n",
       "    </tr>\n",
       "    <tr>\n",
       "      <th>6</th>\n",
       "      <td>7</td>\n",
       "      <td>0</td>\n",
       "      <td>1</td>\n",
       "      <td>McCarthy, Mr. Timothy J</td>\n",
       "      <td>male</td>\n",
       "      <td>54.0</td>\n",
       "      <td>0</td>\n",
       "      <td>0</td>\n",
       "      <td>17463</td>\n",
       "      <td>51.8625</td>\n",
       "      <td>E46</td>\n",
       "      <td>S</td>\n",
       "    </tr>\n",
       "    <tr>\n",
       "      <th>7</th>\n",
       "      <td>8</td>\n",
       "      <td>0</td>\n",
       "      <td>3</td>\n",
       "      <td>Palsson, Master. Gosta Leonard</td>\n",
       "      <td>male</td>\n",
       "      <td>2.0</td>\n",
       "      <td>3</td>\n",
       "      <td>1</td>\n",
       "      <td>349909</td>\n",
       "      <td>21.0750</td>\n",
       "      <td>NaN</td>\n",
       "      <td>S</td>\n",
       "    </tr>\n",
       "    <tr>\n",
       "      <th>8</th>\n",
       "      <td>9</td>\n",
       "      <td>1</td>\n",
       "      <td>3</td>\n",
       "      <td>Johnson, Mrs. Oscar W (Elisabeth Vilhelmina Berg)</td>\n",
       "      <td>female</td>\n",
       "      <td>27.0</td>\n",
       "      <td>0</td>\n",
       "      <td>2</td>\n",
       "      <td>347742</td>\n",
       "      <td>11.1333</td>\n",
       "      <td>NaN</td>\n",
       "      <td>S</td>\n",
       "    </tr>\n",
       "    <tr>\n",
       "      <th>9</th>\n",
       "      <td>10</td>\n",
       "      <td>1</td>\n",
       "      <td>2</td>\n",
       "      <td>Nasser, Mrs. Nicholas (Adele Achem)</td>\n",
       "      <td>female</td>\n",
       "      <td>14.0</td>\n",
       "      <td>1</td>\n",
       "      <td>0</td>\n",
       "      <td>237736</td>\n",
       "      <td>30.0708</td>\n",
       "      <td>NaN</td>\n",
       "      <td>C</td>\n",
       "    </tr>\n",
       "  </tbody>\n",
       "</table>\n",
       "</div>"
      ],
      "text/plain": [
       "   PassengerId  Survived  Pclass  \\\n",
       "0            1         0       3   \n",
       "1            2         1       1   \n",
       "2            3         1       3   \n",
       "3            4         1       1   \n",
       "4            5         0       3   \n",
       "5            6         0       3   \n",
       "6            7         0       1   \n",
       "7            8         0       3   \n",
       "8            9         1       3   \n",
       "9           10         1       2   \n",
       "\n",
       "                                                Name     Sex   Age  SibSp  \\\n",
       "0                            Braund, Mr. Owen Harris    male  22.0      1   \n",
       "1  Cumings, Mrs. John Bradley (Florence Briggs Th...  female  38.0      1   \n",
       "2                             Heikkinen, Miss. Laina  female  26.0      0   \n",
       "3       Futrelle, Mrs. Jacques Heath (Lily May Peel)  female  35.0      1   \n",
       "4                           Allen, Mr. William Henry    male  35.0      0   \n",
       "5                                   Moran, Mr. James    male   NaN      0   \n",
       "6                            McCarthy, Mr. Timothy J    male  54.0      0   \n",
       "7                     Palsson, Master. Gosta Leonard    male   2.0      3   \n",
       "8  Johnson, Mrs. Oscar W (Elisabeth Vilhelmina Berg)  female  27.0      0   \n",
       "9                Nasser, Mrs. Nicholas (Adele Achem)  female  14.0      1   \n",
       "\n",
       "   Parch            Ticket     Fare Cabin Embarked  \n",
       "0      0         A/5 21171   7.2500   NaN        S  \n",
       "1      0          PC 17599  71.2833   C85        C  \n",
       "2      0  STON/O2. 3101282   7.9250   NaN        S  \n",
       "3      0            113803  53.1000  C123        S  \n",
       "4      0            373450   8.0500   NaN        S  \n",
       "5      0            330877   8.4583   NaN        Q  \n",
       "6      0             17463  51.8625   E46        S  \n",
       "7      1            349909  21.0750   NaN        S  \n",
       "8      2            347742  11.1333   NaN        S  \n",
       "9      0            237736  30.0708   NaN        C  "
      ]
     },
     "execution_count": 3,
     "metadata": {},
     "output_type": "execute_result"
    }
   ],
   "source": [
    "train.head(10)"
   ]
  },
  {
   "cell_type": "code",
   "execution_count": 4,
   "id": "breathing-advocate",
   "metadata": {
    "execution": {
     "iopub.execute_input": "2021-05-02T18:42:57.041551Z",
     "iopub.status.busy": "2021-05-02T18:42:57.040870Z",
     "iopub.status.idle": "2021-05-02T18:42:57.044838Z",
     "shell.execute_reply": "2021-05-02T18:42:57.044249Z"
    },
    "papermill": {
     "duration": 0.046917,
     "end_time": "2021-05-02T18:42:57.044976",
     "exception": false,
     "start_time": "2021-05-02T18:42:56.998059",
     "status": "completed"
    },
    "tags": []
   },
   "outputs": [
    {
     "data": {
      "text/html": [
       "<div>\n",
       "<style scoped>\n",
       "    .dataframe tbody tr th:only-of-type {\n",
       "        vertical-align: middle;\n",
       "    }\n",
       "\n",
       "    .dataframe tbody tr th {\n",
       "        vertical-align: top;\n",
       "    }\n",
       "\n",
       "    .dataframe thead th {\n",
       "        text-align: right;\n",
       "    }\n",
       "</style>\n",
       "<table border=\"1\" class=\"dataframe\">\n",
       "  <thead>\n",
       "    <tr style=\"text-align: right;\">\n",
       "      <th></th>\n",
       "      <th>PassengerId</th>\n",
       "      <th>Pclass</th>\n",
       "      <th>Name</th>\n",
       "      <th>Sex</th>\n",
       "      <th>Age</th>\n",
       "      <th>SibSp</th>\n",
       "      <th>Parch</th>\n",
       "      <th>Ticket</th>\n",
       "      <th>Fare</th>\n",
       "      <th>Cabin</th>\n",
       "      <th>Embarked</th>\n",
       "    </tr>\n",
       "  </thead>\n",
       "  <tbody>\n",
       "    <tr>\n",
       "      <th>0</th>\n",
       "      <td>892</td>\n",
       "      <td>3</td>\n",
       "      <td>Kelly, Mr. James</td>\n",
       "      <td>male</td>\n",
       "      <td>34.5</td>\n",
       "      <td>0</td>\n",
       "      <td>0</td>\n",
       "      <td>330911</td>\n",
       "      <td>7.8292</td>\n",
       "      <td>NaN</td>\n",
       "      <td>Q</td>\n",
       "    </tr>\n",
       "    <tr>\n",
       "      <th>1</th>\n",
       "      <td>893</td>\n",
       "      <td>3</td>\n",
       "      <td>Wilkes, Mrs. James (Ellen Needs)</td>\n",
       "      <td>female</td>\n",
       "      <td>47.0</td>\n",
       "      <td>1</td>\n",
       "      <td>0</td>\n",
       "      <td>363272</td>\n",
       "      <td>7.0000</td>\n",
       "      <td>NaN</td>\n",
       "      <td>S</td>\n",
       "    </tr>\n",
       "    <tr>\n",
       "      <th>2</th>\n",
       "      <td>894</td>\n",
       "      <td>2</td>\n",
       "      <td>Myles, Mr. Thomas Francis</td>\n",
       "      <td>male</td>\n",
       "      <td>62.0</td>\n",
       "      <td>0</td>\n",
       "      <td>0</td>\n",
       "      <td>240276</td>\n",
       "      <td>9.6875</td>\n",
       "      <td>NaN</td>\n",
       "      <td>Q</td>\n",
       "    </tr>\n",
       "    <tr>\n",
       "      <th>3</th>\n",
       "      <td>895</td>\n",
       "      <td>3</td>\n",
       "      <td>Wirz, Mr. Albert</td>\n",
       "      <td>male</td>\n",
       "      <td>27.0</td>\n",
       "      <td>0</td>\n",
       "      <td>0</td>\n",
       "      <td>315154</td>\n",
       "      <td>8.6625</td>\n",
       "      <td>NaN</td>\n",
       "      <td>S</td>\n",
       "    </tr>\n",
       "    <tr>\n",
       "      <th>4</th>\n",
       "      <td>896</td>\n",
       "      <td>3</td>\n",
       "      <td>Hirvonen, Mrs. Alexander (Helga E Lindqvist)</td>\n",
       "      <td>female</td>\n",
       "      <td>22.0</td>\n",
       "      <td>1</td>\n",
       "      <td>1</td>\n",
       "      <td>3101298</td>\n",
       "      <td>12.2875</td>\n",
       "      <td>NaN</td>\n",
       "      <td>S</td>\n",
       "    </tr>\n",
       "    <tr>\n",
       "      <th>5</th>\n",
       "      <td>897</td>\n",
       "      <td>3</td>\n",
       "      <td>Svensson, Mr. Johan Cervin</td>\n",
       "      <td>male</td>\n",
       "      <td>14.0</td>\n",
       "      <td>0</td>\n",
       "      <td>0</td>\n",
       "      <td>7538</td>\n",
       "      <td>9.2250</td>\n",
       "      <td>NaN</td>\n",
       "      <td>S</td>\n",
       "    </tr>\n",
       "    <tr>\n",
       "      <th>6</th>\n",
       "      <td>898</td>\n",
       "      <td>3</td>\n",
       "      <td>Connolly, Miss. Kate</td>\n",
       "      <td>female</td>\n",
       "      <td>30.0</td>\n",
       "      <td>0</td>\n",
       "      <td>0</td>\n",
       "      <td>330972</td>\n",
       "      <td>7.6292</td>\n",
       "      <td>NaN</td>\n",
       "      <td>Q</td>\n",
       "    </tr>\n",
       "    <tr>\n",
       "      <th>7</th>\n",
       "      <td>899</td>\n",
       "      <td>2</td>\n",
       "      <td>Caldwell, Mr. Albert Francis</td>\n",
       "      <td>male</td>\n",
       "      <td>26.0</td>\n",
       "      <td>1</td>\n",
       "      <td>1</td>\n",
       "      <td>248738</td>\n",
       "      <td>29.0000</td>\n",
       "      <td>NaN</td>\n",
       "      <td>S</td>\n",
       "    </tr>\n",
       "    <tr>\n",
       "      <th>8</th>\n",
       "      <td>900</td>\n",
       "      <td>3</td>\n",
       "      <td>Abrahim, Mrs. Joseph (Sophie Halaut Easu)</td>\n",
       "      <td>female</td>\n",
       "      <td>18.0</td>\n",
       "      <td>0</td>\n",
       "      <td>0</td>\n",
       "      <td>2657</td>\n",
       "      <td>7.2292</td>\n",
       "      <td>NaN</td>\n",
       "      <td>C</td>\n",
       "    </tr>\n",
       "    <tr>\n",
       "      <th>9</th>\n",
       "      <td>901</td>\n",
       "      <td>3</td>\n",
       "      <td>Davies, Mr. John Samuel</td>\n",
       "      <td>male</td>\n",
       "      <td>21.0</td>\n",
       "      <td>2</td>\n",
       "      <td>0</td>\n",
       "      <td>A/4 48871</td>\n",
       "      <td>24.1500</td>\n",
       "      <td>NaN</td>\n",
       "      <td>S</td>\n",
       "    </tr>\n",
       "  </tbody>\n",
       "</table>\n",
       "</div>"
      ],
      "text/plain": [
       "   PassengerId  Pclass                                          Name     Sex  \\\n",
       "0          892       3                              Kelly, Mr. James    male   \n",
       "1          893       3              Wilkes, Mrs. James (Ellen Needs)  female   \n",
       "2          894       2                     Myles, Mr. Thomas Francis    male   \n",
       "3          895       3                              Wirz, Mr. Albert    male   \n",
       "4          896       3  Hirvonen, Mrs. Alexander (Helga E Lindqvist)  female   \n",
       "5          897       3                    Svensson, Mr. Johan Cervin    male   \n",
       "6          898       3                          Connolly, Miss. Kate  female   \n",
       "7          899       2                  Caldwell, Mr. Albert Francis    male   \n",
       "8          900       3     Abrahim, Mrs. Joseph (Sophie Halaut Easu)  female   \n",
       "9          901       3                       Davies, Mr. John Samuel    male   \n",
       "\n",
       "    Age  SibSp  Parch     Ticket     Fare Cabin Embarked  \n",
       "0  34.5      0      0     330911   7.8292   NaN        Q  \n",
       "1  47.0      1      0     363272   7.0000   NaN        S  \n",
       "2  62.0      0      0     240276   9.6875   NaN        Q  \n",
       "3  27.0      0      0     315154   8.6625   NaN        S  \n",
       "4  22.0      1      1    3101298  12.2875   NaN        S  \n",
       "5  14.0      0      0       7538   9.2250   NaN        S  \n",
       "6  30.0      0      0     330972   7.6292   NaN        Q  \n",
       "7  26.0      1      1     248738  29.0000   NaN        S  \n",
       "8  18.0      0      0       2657   7.2292   NaN        C  \n",
       "9  21.0      2      0  A/4 48871  24.1500   NaN        S  "
      ]
     },
     "execution_count": 4,
     "metadata": {},
     "output_type": "execute_result"
    }
   ],
   "source": [
    "test.head(10)"
   ]
  },
  {
   "cell_type": "code",
   "execution_count": 5,
   "id": "rural-priority",
   "metadata": {
    "execution": {
     "iopub.execute_input": "2021-05-02T18:42:57.101202Z",
     "iopub.status.busy": "2021-05-02T18:42:57.100548Z",
     "iopub.status.idle": "2021-05-02T18:42:57.137743Z",
     "shell.execute_reply": "2021-05-02T18:42:57.137150Z"
    },
    "papermill": {
     "duration": 0.069561,
     "end_time": "2021-05-02T18:42:57.137903",
     "exception": false,
     "start_time": "2021-05-02T18:42:57.068342",
     "status": "completed"
    },
    "tags": []
   },
   "outputs": [
    {
     "data": {
      "text/html": [
       "<div>\n",
       "<style scoped>\n",
       "    .dataframe tbody tr th:only-of-type {\n",
       "        vertical-align: middle;\n",
       "    }\n",
       "\n",
       "    .dataframe tbody tr th {\n",
       "        vertical-align: top;\n",
       "    }\n",
       "\n",
       "    .dataframe thead th {\n",
       "        text-align: right;\n",
       "    }\n",
       "</style>\n",
       "<table border=\"1\" class=\"dataframe\">\n",
       "  <thead>\n",
       "    <tr style=\"text-align: right;\">\n",
       "      <th></th>\n",
       "      <th>PassengerId</th>\n",
       "      <th>Survived</th>\n",
       "      <th>Pclass</th>\n",
       "      <th>Age</th>\n",
       "      <th>SibSp</th>\n",
       "      <th>Parch</th>\n",
       "      <th>Fare</th>\n",
       "    </tr>\n",
       "  </thead>\n",
       "  <tbody>\n",
       "    <tr>\n",
       "      <th>count</th>\n",
       "      <td>891.000000</td>\n",
       "      <td>891.000000</td>\n",
       "      <td>891.000000</td>\n",
       "      <td>714.000000</td>\n",
       "      <td>891.000000</td>\n",
       "      <td>891.000000</td>\n",
       "      <td>891.000000</td>\n",
       "    </tr>\n",
       "    <tr>\n",
       "      <th>mean</th>\n",
       "      <td>446.000000</td>\n",
       "      <td>0.383838</td>\n",
       "      <td>2.308642</td>\n",
       "      <td>29.699118</td>\n",
       "      <td>0.523008</td>\n",
       "      <td>0.381594</td>\n",
       "      <td>32.204208</td>\n",
       "    </tr>\n",
       "    <tr>\n",
       "      <th>std</th>\n",
       "      <td>257.353842</td>\n",
       "      <td>0.486592</td>\n",
       "      <td>0.836071</td>\n",
       "      <td>14.526497</td>\n",
       "      <td>1.102743</td>\n",
       "      <td>0.806057</td>\n",
       "      <td>49.693429</td>\n",
       "    </tr>\n",
       "    <tr>\n",
       "      <th>min</th>\n",
       "      <td>1.000000</td>\n",
       "      <td>0.000000</td>\n",
       "      <td>1.000000</td>\n",
       "      <td>0.420000</td>\n",
       "      <td>0.000000</td>\n",
       "      <td>0.000000</td>\n",
       "      <td>0.000000</td>\n",
       "    </tr>\n",
       "    <tr>\n",
       "      <th>25%</th>\n",
       "      <td>223.500000</td>\n",
       "      <td>0.000000</td>\n",
       "      <td>2.000000</td>\n",
       "      <td>20.125000</td>\n",
       "      <td>0.000000</td>\n",
       "      <td>0.000000</td>\n",
       "      <td>7.910400</td>\n",
       "    </tr>\n",
       "    <tr>\n",
       "      <th>50%</th>\n",
       "      <td>446.000000</td>\n",
       "      <td>0.000000</td>\n",
       "      <td>3.000000</td>\n",
       "      <td>28.000000</td>\n",
       "      <td>0.000000</td>\n",
       "      <td>0.000000</td>\n",
       "      <td>14.454200</td>\n",
       "    </tr>\n",
       "    <tr>\n",
       "      <th>75%</th>\n",
       "      <td>668.500000</td>\n",
       "      <td>1.000000</td>\n",
       "      <td>3.000000</td>\n",
       "      <td>38.000000</td>\n",
       "      <td>1.000000</td>\n",
       "      <td>0.000000</td>\n",
       "      <td>31.000000</td>\n",
       "    </tr>\n",
       "    <tr>\n",
       "      <th>max</th>\n",
       "      <td>891.000000</td>\n",
       "      <td>1.000000</td>\n",
       "      <td>3.000000</td>\n",
       "      <td>80.000000</td>\n",
       "      <td>8.000000</td>\n",
       "      <td>6.000000</td>\n",
       "      <td>512.329200</td>\n",
       "    </tr>\n",
       "  </tbody>\n",
       "</table>\n",
       "</div>"
      ],
      "text/plain": [
       "       PassengerId    Survived      Pclass         Age       SibSp  \\\n",
       "count   891.000000  891.000000  891.000000  714.000000  891.000000   \n",
       "mean    446.000000    0.383838    2.308642   29.699118    0.523008   \n",
       "std     257.353842    0.486592    0.836071   14.526497    1.102743   \n",
       "min       1.000000    0.000000    1.000000    0.420000    0.000000   \n",
       "25%     223.500000    0.000000    2.000000   20.125000    0.000000   \n",
       "50%     446.000000    0.000000    3.000000   28.000000    0.000000   \n",
       "75%     668.500000    1.000000    3.000000   38.000000    1.000000   \n",
       "max     891.000000    1.000000    3.000000   80.000000    8.000000   \n",
       "\n",
       "            Parch        Fare  \n",
       "count  891.000000  891.000000  \n",
       "mean     0.381594   32.204208  \n",
       "std      0.806057   49.693429  \n",
       "min      0.000000    0.000000  \n",
       "25%      0.000000    7.910400  \n",
       "50%      0.000000   14.454200  \n",
       "75%      0.000000   31.000000  \n",
       "max      6.000000  512.329200  "
      ]
     },
     "execution_count": 5,
     "metadata": {},
     "output_type": "execute_result"
    }
   ],
   "source": [
    "train.describe()"
   ]
  },
  {
   "cell_type": "code",
   "execution_count": 6,
   "id": "mental-catalog",
   "metadata": {
    "execution": {
     "iopub.execute_input": "2021-05-02T18:42:57.199528Z",
     "iopub.status.busy": "2021-05-02T18:42:57.194518Z",
     "iopub.status.idle": "2021-05-02T18:42:57.224547Z",
     "shell.execute_reply": "2021-05-02T18:42:57.223965Z"
    },
    "papermill": {
     "duration": 0.063491,
     "end_time": "2021-05-02T18:42:57.224689",
     "exception": false,
     "start_time": "2021-05-02T18:42:57.161198",
     "status": "completed"
    },
    "tags": []
   },
   "outputs": [
    {
     "data": {
      "text/html": [
       "<div>\n",
       "<style scoped>\n",
       "    .dataframe tbody tr th:only-of-type {\n",
       "        vertical-align: middle;\n",
       "    }\n",
       "\n",
       "    .dataframe tbody tr th {\n",
       "        vertical-align: top;\n",
       "    }\n",
       "\n",
       "    .dataframe thead th {\n",
       "        text-align: right;\n",
       "    }\n",
       "</style>\n",
       "<table border=\"1\" class=\"dataframe\">\n",
       "  <thead>\n",
       "    <tr style=\"text-align: right;\">\n",
       "      <th></th>\n",
       "      <th>PassengerId</th>\n",
       "      <th>Pclass</th>\n",
       "      <th>Age</th>\n",
       "      <th>SibSp</th>\n",
       "      <th>Parch</th>\n",
       "      <th>Fare</th>\n",
       "    </tr>\n",
       "  </thead>\n",
       "  <tbody>\n",
       "    <tr>\n",
       "      <th>count</th>\n",
       "      <td>418.000000</td>\n",
       "      <td>418.000000</td>\n",
       "      <td>332.000000</td>\n",
       "      <td>418.000000</td>\n",
       "      <td>418.000000</td>\n",
       "      <td>417.000000</td>\n",
       "    </tr>\n",
       "    <tr>\n",
       "      <th>mean</th>\n",
       "      <td>1100.500000</td>\n",
       "      <td>2.265550</td>\n",
       "      <td>30.272590</td>\n",
       "      <td>0.447368</td>\n",
       "      <td>0.392344</td>\n",
       "      <td>35.627188</td>\n",
       "    </tr>\n",
       "    <tr>\n",
       "      <th>std</th>\n",
       "      <td>120.810458</td>\n",
       "      <td>0.841838</td>\n",
       "      <td>14.181209</td>\n",
       "      <td>0.896760</td>\n",
       "      <td>0.981429</td>\n",
       "      <td>55.907576</td>\n",
       "    </tr>\n",
       "    <tr>\n",
       "      <th>min</th>\n",
       "      <td>892.000000</td>\n",
       "      <td>1.000000</td>\n",
       "      <td>0.170000</td>\n",
       "      <td>0.000000</td>\n",
       "      <td>0.000000</td>\n",
       "      <td>0.000000</td>\n",
       "    </tr>\n",
       "    <tr>\n",
       "      <th>25%</th>\n",
       "      <td>996.250000</td>\n",
       "      <td>1.000000</td>\n",
       "      <td>21.000000</td>\n",
       "      <td>0.000000</td>\n",
       "      <td>0.000000</td>\n",
       "      <td>7.895800</td>\n",
       "    </tr>\n",
       "    <tr>\n",
       "      <th>50%</th>\n",
       "      <td>1100.500000</td>\n",
       "      <td>3.000000</td>\n",
       "      <td>27.000000</td>\n",
       "      <td>0.000000</td>\n",
       "      <td>0.000000</td>\n",
       "      <td>14.454200</td>\n",
       "    </tr>\n",
       "    <tr>\n",
       "      <th>75%</th>\n",
       "      <td>1204.750000</td>\n",
       "      <td>3.000000</td>\n",
       "      <td>39.000000</td>\n",
       "      <td>1.000000</td>\n",
       "      <td>0.000000</td>\n",
       "      <td>31.500000</td>\n",
       "    </tr>\n",
       "    <tr>\n",
       "      <th>max</th>\n",
       "      <td>1309.000000</td>\n",
       "      <td>3.000000</td>\n",
       "      <td>76.000000</td>\n",
       "      <td>8.000000</td>\n",
       "      <td>9.000000</td>\n",
       "      <td>512.329200</td>\n",
       "    </tr>\n",
       "  </tbody>\n",
       "</table>\n",
       "</div>"
      ],
      "text/plain": [
       "       PassengerId      Pclass         Age       SibSp       Parch        Fare\n",
       "count   418.000000  418.000000  332.000000  418.000000  418.000000  417.000000\n",
       "mean   1100.500000    2.265550   30.272590    0.447368    0.392344   35.627188\n",
       "std     120.810458    0.841838   14.181209    0.896760    0.981429   55.907576\n",
       "min     892.000000    1.000000    0.170000    0.000000    0.000000    0.000000\n",
       "25%     996.250000    1.000000   21.000000    0.000000    0.000000    7.895800\n",
       "50%    1100.500000    3.000000   27.000000    0.000000    0.000000   14.454200\n",
       "75%    1204.750000    3.000000   39.000000    1.000000    0.000000   31.500000\n",
       "max    1309.000000    3.000000   76.000000    8.000000    9.000000  512.329200"
      ]
     },
     "execution_count": 6,
     "metadata": {},
     "output_type": "execute_result"
    }
   ],
   "source": [
    "test.describe()"
   ]
  },
  {
   "cell_type": "markdown",
   "id": "practical-imaging",
   "metadata": {
    "papermill": {
     "duration": 0.023435,
     "end_time": "2021-05-02T18:42:57.272139",
     "exception": false,
     "start_time": "2021-05-02T18:42:57.248704",
     "status": "completed"
    },
    "tags": []
   },
   "source": [
    "## Data cleaning"
   ]
  },
  {
   "cell_type": "markdown",
   "id": "middle-badge",
   "metadata": {
    "papermill": {
     "duration": 0.024693,
     "end_time": "2021-05-02T18:42:57.320845",
     "exception": false,
     "start_time": "2021-05-02T18:42:57.296152",
     "status": "completed"
    },
    "tags": []
   },
   "source": [
    "First, let's check how many of the column entries from both the datasets have missing values. "
   ]
  },
  {
   "cell_type": "code",
   "execution_count": 7,
   "id": "continuing-value",
   "metadata": {
    "execution": {
     "iopub.execute_input": "2021-05-02T18:42:57.380631Z",
     "iopub.status.busy": "2021-05-02T18:42:57.379629Z",
     "iopub.status.idle": "2021-05-02T18:42:57.384207Z",
     "shell.execute_reply": "2021-05-02T18:42:57.384841Z"
    },
    "papermill": {
     "duration": 0.040061,
     "end_time": "2021-05-02T18:42:57.385033",
     "exception": false,
     "start_time": "2021-05-02T18:42:57.344972",
     "status": "completed"
    },
    "tags": []
   },
   "outputs": [
    {
     "name": "stdout",
     "output_type": "stream",
     "text": [
      "PassengerId      0\n",
      "Survived         0\n",
      "Pclass           0\n",
      "Name             0\n",
      "Sex              0\n",
      "Age            177\n",
      "SibSp            0\n",
      "Parch            0\n",
      "Ticket           0\n",
      "Fare             0\n",
      "Cabin          687\n",
      "Embarked         2\n",
      "dtype: int64\n",
      "____________________\n",
      "PassengerId      0\n",
      "Pclass           0\n",
      "Name             0\n",
      "Sex              0\n",
      "Age             86\n",
      "SibSp            0\n",
      "Parch            0\n",
      "Ticket           0\n",
      "Fare             1\n",
      "Cabin          327\n",
      "Embarked         0\n",
      "dtype: int64\n"
     ]
    }
   ],
   "source": [
    "print(train.isnull().sum())\n",
    "print('_'*20)\n",
    "print(test.isnull().sum())"
   ]
  },
  {
   "cell_type": "markdown",
   "id": "statewide-kinase",
   "metadata": {
    "papermill": {
     "duration": 0.023999,
     "end_time": "2021-05-02T18:42:57.433644",
     "exception": false,
     "start_time": "2021-05-02T18:42:57.409645",
     "status": "completed"
    },
    "tags": []
   },
   "source": [
    "A lot of entries in the 'Age' column of both the datasets are missing. Along with this, two entries of 'Embarked' in the training dataset and one entry of 'Fare' in the testing dataset are missing. I will fill-up these discrepencies based on the data that we have.<br><br>\n",
    "Note: I decided to ignore the 'Cabin' entries which were missing as they are Alphanumberic strings which are difficult to assume and fill-up."
   ]
  },
  {
   "cell_type": "markdown",
   "id": "caroline-victor",
   "metadata": {
    "papermill": {
     "duration": 0.024982,
     "end_time": "2021-05-02T18:42:57.484202",
     "exception": false,
     "start_time": "2021-05-02T18:42:57.459220",
     "status": "completed"
    },
    "tags": []
   },
   "source": [
    "### Filling up all the NaN values in 'Age' column of both the testing and training datasets."
   ]
  },
  {
   "cell_type": "markdown",
   "id": "armed-sixth",
   "metadata": {
    "papermill": {
     "duration": 0.024996,
     "end_time": "2021-05-02T18:42:57.534526",
     "exception": false,
     "start_time": "2021-05-02T18:42:57.509530",
     "status": "completed"
    },
    "tags": []
   },
   "source": [
    "I decided to fill up the 'Age' of each passenger (in both the training and testing datasets) based on the 'Pclass' they booked their ticket under. So, for a passenger whose 'Age' entry is missing, his/her 'Age' will be filled up with the average age of passengers from his/her 'Pclass'."
   ]
  },
  {
   "cell_type": "code",
   "execution_count": 8,
   "id": "incorporated-helmet",
   "metadata": {
    "execution": {
     "iopub.execute_input": "2021-05-02T18:42:57.592021Z",
     "iopub.status.busy": "2021-05-02T18:42:57.591312Z",
     "iopub.status.idle": "2021-05-02T18:42:57.629470Z",
     "shell.execute_reply": "2021-05-02T18:42:57.628768Z"
    },
    "papermill": {
     "duration": 0.069291,
     "end_time": "2021-05-02T18:42:57.629607",
     "exception": false,
     "start_time": "2021-05-02T18:42:57.560316",
     "status": "completed"
    },
    "tags": []
   },
   "outputs": [],
   "source": [
    "for df in datasets: # Loops through the dataset\n",
    "    for _ in range(1,4): # Loops through range(1,4) i.e. from 1 to 3 (since there are three 'PClass' values i.e. 1,2,3)\n",
    "        df.loc[df.Pclass==_,'Age'] = df.loc[df.Pclass==_,'Age'].fillna(df.loc[df.Pclass==_].Age.mean()) # Fill-up statement"
   ]
  },
  {
   "cell_type": "markdown",
   "id": "committed-extension",
   "metadata": {
    "papermill": {
     "duration": 0.024363,
     "end_time": "2021-05-02T18:42:57.679813",
     "exception": false,
     "start_time": "2021-05-02T18:42:57.655450",
     "status": "completed"
    },
    "tags": []
   },
   "source": [
    "Next, I will be filling up the missing 'Embarked' values in the training dataset. The 'Embarked' column contains either 'S', 'C' or 'Q'."
   ]
  },
  {
   "cell_type": "code",
   "execution_count": 9,
   "id": "national-chuck",
   "metadata": {
    "execution": {
     "iopub.execute_input": "2021-05-02T18:42:57.739888Z",
     "iopub.status.busy": "2021-05-02T18:42:57.738956Z",
     "iopub.status.idle": "2021-05-02T18:42:57.743412Z",
     "shell.execute_reply": "2021-05-02T18:42:57.742770Z"
    },
    "papermill": {
     "duration": 0.038749,
     "end_time": "2021-05-02T18:42:57.743555",
     "exception": false,
     "start_time": "2021-05-02T18:42:57.704806",
     "status": "completed"
    },
    "tags": []
   },
   "outputs": [
    {
     "data": {
      "text/plain": [
       "S    644\n",
       "C    168\n",
       "Q     77\n",
       "Name: Embarked, dtype: int64"
      ]
     },
     "execution_count": 9,
     "metadata": {},
     "output_type": "execute_result"
    }
   ],
   "source": [
    "# Checking the number of passengers embarked at 'S','C' and 'Q'\n",
    "train['Embarked'].value_counts()"
   ]
  },
  {
   "cell_type": "code",
   "execution_count": 10,
   "id": "atomic-stability",
   "metadata": {
    "execution": {
     "iopub.execute_input": "2021-05-02T18:42:57.799399Z",
     "iopub.status.busy": "2021-05-02T18:42:57.798735Z",
     "iopub.status.idle": "2021-05-02T18:42:57.801924Z",
     "shell.execute_reply": "2021-05-02T18:42:57.801428Z"
    },
    "papermill": {
     "duration": 0.033194,
     "end_time": "2021-05-02T18:42:57.802059",
     "exception": false,
     "start_time": "2021-05-02T18:42:57.768865",
     "status": "completed"
    },
    "tags": []
   },
   "outputs": [],
   "source": [
    "# Since, the majority of passengers embarked at 'S', I will replace the missing values with 'S'.\n",
    "train['Embarked'] = train['Embarked'].fillna('S')"
   ]
  },
  {
   "cell_type": "markdown",
   "id": "cooperative-income",
   "metadata": {
    "papermill": {
     "duration": 0.025828,
     "end_time": "2021-05-02T18:42:57.853736",
     "exception": false,
     "start_time": "2021-05-02T18:42:57.827908",
     "status": "completed"
    },
    "tags": []
   },
   "source": [
    "Next, I will be filling up the missing 'Fare' value in the training dataset."
   ]
  },
  {
   "cell_type": "code",
   "execution_count": 11,
   "id": "dominant-interference",
   "metadata": {
    "execution": {
     "iopub.execute_input": "2021-05-02T18:42:57.909217Z",
     "iopub.status.busy": "2021-05-02T18:42:57.908243Z",
     "iopub.status.idle": "2021-05-02T18:42:57.923151Z",
     "shell.execute_reply": "2021-05-02T18:42:57.923667Z"
    },
    "papermill": {
     "duration": 0.044902,
     "end_time": "2021-05-02T18:42:57.923851",
     "exception": false,
     "start_time": "2021-05-02T18:42:57.878949",
     "status": "completed"
    },
    "tags": []
   },
   "outputs": [
    {
     "data": {
      "text/html": [
       "<div>\n",
       "<style scoped>\n",
       "    .dataframe tbody tr th:only-of-type {\n",
       "        vertical-align: middle;\n",
       "    }\n",
       "\n",
       "    .dataframe tbody tr th {\n",
       "        vertical-align: top;\n",
       "    }\n",
       "\n",
       "    .dataframe thead th {\n",
       "        text-align: right;\n",
       "    }\n",
       "</style>\n",
       "<table border=\"1\" class=\"dataframe\">\n",
       "  <thead>\n",
       "    <tr style=\"text-align: right;\">\n",
       "      <th></th>\n",
       "      <th>PassengerId</th>\n",
       "      <th>Pclass</th>\n",
       "      <th>Name</th>\n",
       "      <th>Sex</th>\n",
       "      <th>Age</th>\n",
       "      <th>SibSp</th>\n",
       "      <th>Parch</th>\n",
       "      <th>Ticket</th>\n",
       "      <th>Fare</th>\n",
       "      <th>Cabin</th>\n",
       "      <th>Embarked</th>\n",
       "    </tr>\n",
       "  </thead>\n",
       "  <tbody>\n",
       "    <tr>\n",
       "      <th>152</th>\n",
       "      <td>1044</td>\n",
       "      <td>3</td>\n",
       "      <td>Storey, Mr. Thomas</td>\n",
       "      <td>male</td>\n",
       "      <td>60.5</td>\n",
       "      <td>0</td>\n",
       "      <td>0</td>\n",
       "      <td>3701</td>\n",
       "      <td>NaN</td>\n",
       "      <td>NaN</td>\n",
       "      <td>S</td>\n",
       "    </tr>\n",
       "  </tbody>\n",
       "</table>\n",
       "</div>"
      ],
      "text/plain": [
       "     PassengerId  Pclass                Name   Sex   Age  SibSp  Parch Ticket  \\\n",
       "152         1044       3  Storey, Mr. Thomas  male  60.5      0      0   3701   \n",
       "\n",
       "     Fare Cabin Embarked  \n",
       "152   NaN   NaN        S  "
      ]
     },
     "execution_count": 11,
     "metadata": {},
     "output_type": "execute_result"
    }
   ],
   "source": [
    "test[test.Fare.isnull()] # Printing the row where the 'Fare' value is missing."
   ]
  },
  {
   "cell_type": "code",
   "execution_count": 12,
   "id": "powerful-jimmy",
   "metadata": {
    "execution": {
     "iopub.execute_input": "2021-05-02T18:42:57.980079Z",
     "iopub.status.busy": "2021-05-02T18:42:57.979112Z",
     "iopub.status.idle": "2021-05-02T18:42:57.986827Z",
     "shell.execute_reply": "2021-05-02T18:42:57.986235Z"
    },
    "papermill": {
     "duration": 0.036192,
     "end_time": "2021-05-02T18:42:57.986978",
     "exception": false,
     "start_time": "2021-05-02T18:42:57.950786",
     "status": "completed"
    },
    "tags": []
   },
   "outputs": [],
   "source": [
    "# Since there is only one passenger whose 'Fare' entry is missing, I decided to replace it with average 'Fare' paid by \n",
    "# passengers in his/her 'Pclass'.\n",
    "test['Fare'] = test['Fare'].fillna(test.loc[test.Pclass==3].Fare.mean())"
   ]
  },
  {
   "cell_type": "code",
   "execution_count": 13,
   "id": "found-medicare",
   "metadata": {
    "execution": {
     "iopub.execute_input": "2021-05-02T18:42:58.051003Z",
     "iopub.status.busy": "2021-05-02T18:42:58.050297Z",
     "iopub.status.idle": "2021-05-02T18:42:58.054379Z",
     "shell.execute_reply": "2021-05-02T18:42:58.054996Z"
    },
    "papermill": {
     "duration": 0.041866,
     "end_time": "2021-05-02T18:42:58.055175",
     "exception": false,
     "start_time": "2021-05-02T18:42:58.013309",
     "status": "completed"
    },
    "tags": []
   },
   "outputs": [
    {
     "name": "stdout",
     "output_type": "stream",
     "text": [
      "PassengerId      0\n",
      "Survived         0\n",
      "Pclass           0\n",
      "Name             0\n",
      "Sex              0\n",
      "Age              0\n",
      "SibSp            0\n",
      "Parch            0\n",
      "Ticket           0\n",
      "Fare             0\n",
      "Cabin          687\n",
      "Embarked         0\n",
      "dtype: int64\n",
      "____________________\n",
      "PassengerId      0\n",
      "Pclass           0\n",
      "Name             0\n",
      "Sex              0\n",
      "Age              0\n",
      "SibSp            0\n",
      "Parch            0\n",
      "Ticket           0\n",
      "Fare             0\n",
      "Cabin          327\n",
      "Embarked         0\n",
      "dtype: int64\n"
     ]
    }
   ],
   "source": [
    "# Chceking if there are anymore missing entries in both the datasets (except for 'Cabin' entries)\n",
    "print(train.isnull().sum())\n",
    "print('_'*20)\n",
    "print(test.isnull().sum())"
   ]
  },
  {
   "cell_type": "markdown",
   "id": "colonial-effort",
   "metadata": {
    "papermill": {
     "duration": 0.026602,
     "end_time": "2021-05-02T18:42:58.109773",
     "exception": false,
     "start_time": "2021-05-02T18:42:58.083171",
     "status": "completed"
    },
    "tags": []
   },
   "source": [
    "## Feature Generation and Encoding <br>\n",
    "In this section, I created two new columns/features in both the given datasets i.e. 'FamilySize' and 'IsAlone'. Along with this, I used LabelEncoder() to convert the 'Sex' and 'Embarked' columns to numeric codes, for simplicity while model training and testing."
   ]
  },
  {
   "cell_type": "code",
   "execution_count": 14,
   "id": "animal-adult",
   "metadata": {
    "execution": {
     "iopub.execute_input": "2021-05-02T18:42:58.172209Z",
     "iopub.status.busy": "2021-05-02T18:42:58.171538Z",
     "iopub.status.idle": "2021-05-02T18:42:58.187398Z",
     "shell.execute_reply": "2021-05-02T18:42:58.187913Z"
    },
    "papermill": {
     "duration": 0.052141,
     "end_time": "2021-05-02T18:42:58.188099",
     "exception": false,
     "start_time": "2021-05-02T18:42:58.135958",
     "status": "completed"
    },
    "tags": []
   },
   "outputs": [
    {
     "name": "stderr",
     "output_type": "stream",
     "text": [
      "/opt/conda/lib/python3.7/site-packages/pandas/core/indexing.py:1637: SettingWithCopyWarning: \n",
      "A value is trying to be set on a copy of a slice from a DataFrame\n",
      "\n",
      "See the caveats in the documentation: https://pandas.pydata.org/pandas-docs/stable/user_guide/indexing.html#returning-a-view-versus-a-copy\n",
      "  self._setitem_single_block(indexer, value, name)\n",
      "/opt/conda/lib/python3.7/site-packages/pandas/core/indexing.py:1637: SettingWithCopyWarning: \n",
      "A value is trying to be set on a copy of a slice from a DataFrame\n",
      "\n",
      "See the caveats in the documentation: https://pandas.pydata.org/pandas-docs/stable/user_guide/indexing.html#returning-a-view-versus-a-copy\n",
      "  self._setitem_single_block(indexer, value, name)\n"
     ]
    }
   ],
   "source": [
    "for df in datasets:\n",
    "    df['FamilySize'] = df['SibSp']+df['Parch']+1 # Number of siblings + Number of parents + Passenger = Size of the Family.\n",
    "    # If a particular passenger is alone or not. \n",
    "    # # 0 represents 'not alone' and 1 represents 'alone'.\n",
    "    df['IsAlone'] = 1 # Initially setting the value as 1.\n",
    "    df['IsAlone'].loc[df['FamilySize'] > 1] = 0 # Changing the value to 0, if 'FamilySize' is greater than 1.\n",
    "    \n",
    "    # Encoding\n",
    "    label = LabelEncoder()   \n",
    "    df['Sex_Code'] = label.fit_transform(df['Sex']) # Converts 'male' and 'female' to 0 and 1.\n",
    "    df['Embarked_Code'] = label.fit_transform(df['Embarked']) # Converts the 'Embarked' values to 0,1,2.\n"
   ]
  },
  {
   "cell_type": "markdown",
   "id": "metropolitan-proceeding",
   "metadata": {
    "papermill": {
     "duration": 0.026441,
     "end_time": "2021-05-02T18:42:58.241429",
     "exception": false,
     "start_time": "2021-05-02T18:42:58.214988",
     "status": "completed"
    },
    "tags": []
   },
   "source": [
    "## Splitting the datasets, model training and model application\n",
    "The model I decided to use is **Support Vector Machine - Classifier** with a **Linear** kernel."
   ]
  },
  {
   "cell_type": "code",
   "execution_count": 15,
   "id": "advanced-shoot",
   "metadata": {
    "execution": {
     "iopub.execute_input": "2021-05-02T18:42:58.298851Z",
     "iopub.status.busy": "2021-05-02T18:42:58.297876Z",
     "iopub.status.idle": "2021-05-02T18:42:58.302042Z",
     "shell.execute_reply": "2021-05-02T18:42:58.302618Z"
    },
    "papermill": {
     "duration": 0.034492,
     "end_time": "2021-05-02T18:42:58.302801",
     "exception": false,
     "start_time": "2021-05-02T18:42:58.268309",
     "status": "completed"
    },
    "tags": []
   },
   "outputs": [],
   "source": [
    "# The feature classes that I have selected to train the model on.\r\n",
    "features = ['Pclass', 'Sex_Code', 'Age', 'SibSp', 'Parch', 'Fare', 'Embarked_Code', 'FamilySize', 'IsAlone']"
   ]
  },
  {
   "cell_type": "code",
   "execution_count": 16,
   "id": "animated-mainland",
   "metadata": {
    "execution": {
     "iopub.execute_input": "2021-05-02T18:42:58.362422Z",
     "iopub.status.busy": "2021-05-02T18:42:58.361399Z",
     "iopub.status.idle": "2021-05-02T18:42:58.369600Z",
     "shell.execute_reply": "2021-05-02T18:42:58.370095Z"
    },
    "papermill": {
     "duration": 0.039584,
     "end_time": "2021-05-02T18:42:58.370293",
     "exception": false,
     "start_time": "2021-05-02T18:42:58.330709",
     "status": "completed"
    },
    "tags": []
   },
   "outputs": [],
   "source": [
    "# Splitting the training dataset into training entries (90% of training dataset) and validation entries (10% of training dataset).\n",
    "x_train, x_val, y_train, y_val = train_test_split(train[features], train['Survived'], train_size = 0.9)"
   ]
  },
  {
   "cell_type": "code",
   "execution_count": 17,
   "id": "congressional-college",
   "metadata": {
    "execution": {
     "iopub.execute_input": "2021-05-02T18:42:58.428935Z",
     "iopub.status.busy": "2021-05-02T18:42:58.427945Z",
     "iopub.status.idle": "2021-05-02T18:43:01.653076Z",
     "shell.execute_reply": "2021-05-02T18:43:01.652345Z"
    },
    "papermill": {
     "duration": 3.255464,
     "end_time": "2021-05-02T18:43:01.653213",
     "exception": false,
     "start_time": "2021-05-02T18:42:58.397749",
     "status": "completed"
    },
    "tags": []
   },
   "outputs": [],
   "source": [
    "# Application of Support Vector Machine - Classifier\n",
    "model = SVC(kernel='linear') # Using Linear Kernel\n",
    "model.fit(x_train, y_train) # Model training\n",
    "\n",
    "y_val_pred = model.predict(x_val) # Predicting y_val from x_val [val == validation set]"
   ]
  },
  {
   "cell_type": "code",
   "execution_count": 18,
   "id": "established-effects",
   "metadata": {
    "execution": {
     "iopub.execute_input": "2021-05-02T18:43:01.715536Z",
     "iopub.status.busy": "2021-05-02T18:43:01.714829Z",
     "iopub.status.idle": "2021-05-02T18:43:01.717571Z",
     "shell.execute_reply": "2021-05-02T18:43:01.718049Z"
    },
    "papermill": {
     "duration": 0.036999,
     "end_time": "2021-05-02T18:43:01.718227",
     "exception": false,
     "start_time": "2021-05-02T18:43:01.681228",
     "status": "completed"
    },
    "tags": []
   },
   "outputs": [
    {
     "name": "stdout",
     "output_type": "stream",
     "text": [
      "Model Accuracy: 0.8111111111111111\n"
     ]
    }
   ],
   "source": [
    "# Model accuracy\n",
    "print(\"Model Accuracy:\",metrics.accuracy_score(y_val, y_val_pred))"
   ]
  },
  {
   "cell_type": "markdown",
   "id": "available-architect",
   "metadata": {
    "papermill": {
     "duration": 0.027888,
     "end_time": "2021-05-02T18:43:01.775085",
     "exception": false,
     "start_time": "2021-05-02T18:43:01.747197",
     "status": "completed"
    },
    "tags": []
   },
   "source": [
    "## Applying the model on testing dataset."
   ]
  },
  {
   "cell_type": "code",
   "execution_count": 19,
   "id": "forty-teaching",
   "metadata": {
    "execution": {
     "iopub.execute_input": "2021-05-02T18:43:01.833549Z",
     "iopub.status.busy": "2021-05-02T18:43:01.832872Z",
     "iopub.status.idle": "2021-05-02T18:43:01.846251Z",
     "shell.execute_reply": "2021-05-02T18:43:01.845559Z"
    },
    "papermill": {
     "duration": 0.043795,
     "end_time": "2021-05-02T18:43:01.846416",
     "exception": false,
     "start_time": "2021-05-02T18:43:01.802621",
     "status": "completed"
    },
    "tags": []
   },
   "outputs": [],
   "source": [
    "test['Survived'] = model.predict(test[features]) # Predicting 'Survived' attribute using the above-trained model."
   ]
  },
  {
   "cell_type": "code",
   "execution_count": 20,
   "id": "temporal-science",
   "metadata": {
    "execution": {
     "iopub.execute_input": "2021-05-02T18:43:01.908742Z",
     "iopub.status.busy": "2021-05-02T18:43:01.908007Z",
     "iopub.status.idle": "2021-05-02T18:43:01.911718Z",
     "shell.execute_reply": "2021-05-02T18:43:01.911096Z"
    },
    "papermill": {
     "duration": 0.037887,
     "end_time": "2021-05-02T18:43:01.911972",
     "exception": false,
     "start_time": "2021-05-02T18:43:01.874085",
     "status": "completed"
    },
    "tags": []
   },
   "outputs": [],
   "source": [
    "final_df = test[['PassengerId','Survived']]  \n",
    "# Final dataframe containing the testing datasets 'PassengerId' and predicted 'Survived' attribute."
   ]
  },
  {
   "cell_type": "code",
   "execution_count": 21,
   "id": "traditional-retailer",
   "metadata": {
    "execution": {
     "iopub.execute_input": "2021-05-02T18:43:01.974239Z",
     "iopub.status.busy": "2021-05-02T18:43:01.973593Z",
     "iopub.status.idle": "2021-05-02T18:43:01.982311Z",
     "shell.execute_reply": "2021-05-02T18:43:01.981742Z"
    },
    "papermill": {
     "duration": 0.042437,
     "end_time": "2021-05-02T18:43:01.982469",
     "exception": false,
     "start_time": "2021-05-02T18:43:01.940032",
     "status": "completed"
    },
    "tags": []
   },
   "outputs": [],
   "source": [
    "# Saving the final dataframe as a .csv file.\n",
    "final_df.to_csv('final_submission.csv', index = False)"
   ]
  }
 ],
 "metadata": {
  "kernelspec": {
   "display_name": "Python 3",
   "language": "python",
   "name": "python3"
  },
  "language_info": {
   "codemirror_mode": {
    "name": "ipython",
    "version": 3
   },
   "file_extension": ".py",
   "mimetype": "text/x-python",
   "name": "python",
   "nbconvert_exporter": "python",
   "pygments_lexer": "ipython3",
   "version": "3.7.10"
  },
  "papermill": {
   "default_parameters": {},
   "duration": 16.965534,
   "end_time": "2021-05-02T18:43:03.328286",
   "environment_variables": {},
   "exception": null,
   "input_path": "__notebook__.ipynb",
   "output_path": "__notebook__.ipynb",
   "parameters": {},
   "start_time": "2021-05-02T18:42:46.362752",
   "version": "2.3.3"
  }
 },
 "nbformat": 4,
 "nbformat_minor": 5
}